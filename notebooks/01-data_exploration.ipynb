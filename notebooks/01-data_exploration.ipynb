{
 "cells": [
  {
   "cell_type": "markdown",
   "metadata": {},
   "source": [
    "# Exploratory Data Analysis (EDA)"
   ]
  },
  {
   "cell_type": "code",
   "execution_count": null,
   "metadata": {},
   "outputs": [
    {
     "ename": "",
     "evalue": "",
     "output_type": "error",
     "traceback": [
      "\u001b[1;31mFailed to start the Kernel. \n",
      "\u001b[1;31mC:\\Users\\Kamuzinzi N. Egide\\AppData\\Local\\Packages\\PythonSoftwareFoundation.Python.3.8_qbz5n2kfra8p0\\LocalCache\\local-packages\\Python38\\site-packages\\traitlets\\traitlets.py:2392: FutureWarning: Supporting extra quotes around strings is deprecated in traitlets 5.0. You can use 'c:\\\\Users\\\\Kamuzinzi N. Egide\\\\AppData\\\\Roaming\\\\jupyter\\\\runtime\\\\kernel-v3034b989ba551eb96b22939307820df91c5b27ead.json' instead of '\"c:\\\\Users\\\\Kamuzinzi N. Egide\\\\AppData\\\\Roaming\\\\jupyter\\\\runtime\\\\kernel-v3034b989ba551eb96b22939307820df91c5b27ead.json\"' if you require traitlets >=5.\n",
      "\u001b[1;31m  warn(\n",
      "\u001b[1;31mBad file descriptor (C:\\projects\\libzmq\\src\\epoll.cpp:100). \n",
      "\u001b[1;31mView Jupyter <a href='command:jupyter.viewOutput'>log</a> for further details."
     ]
    }
   ],
   "source": [
    "from pandas import pd"
   ]
  },
  {
   "cell_type": "code",
   "execution_count": null,
   "metadata": {},
   "outputs": [
    {
     "ename": "",
     "evalue": "",
     "output_type": "error",
     "traceback": [
      "\u001b[1;31mFailed to start the Kernel. \n",
      "\u001b[1;31mC:\\Users\\Kamuzinzi N. Egide\\AppData\\Local\\Packages\\PythonSoftwareFoundation.Python.3.8_qbz5n2kfra8p0\\LocalCache\\local-packages\\Python38\\site-packages\\traitlets\\traitlets.py:2392: FutureWarning: Supporting extra quotes around strings is deprecated in traitlets 5.0. You can use 'c:\\\\Users\\\\Kamuzinzi N. Egide\\\\AppData\\\\Roaming\\\\jupyter\\\\runtime\\\\kernel-v3034b989ba551eb96b22939307820df91c5b27ead.json' instead of '\"c:\\\\Users\\\\Kamuzinzi N. Egide\\\\AppData\\\\Roaming\\\\jupyter\\\\runtime\\\\kernel-v3034b989ba551eb96b22939307820df91c5b27ead.json\"' if you require traitlets >=5.\n",
      "\u001b[1;31m  warn(\n",
      "\u001b[1;31mBad file descriptor (C:\\projects\\libzmq\\src\\epoll.cpp:100). \n",
      "\u001b[1;31mView Jupyter <a href='command:jupyter.viewOutput'>log</a> for further details."
     ]
    }
   ],
   "source": [
    "print('hi')"
   ]
  },
  {
   "cell_type": "code",
   "execution_count": null,
   "metadata": {},
   "outputs": [],
   "source": []
  }
 ],
 "metadata": {
  "kernelspec": {
   "display_name": "Python 3",
   "language": "python",
   "name": "python3"
  },
  "language_info": {
   "name": "python",
   "version": "3.8.10"
  }
 },
 "nbformat": 4,
 "nbformat_minor": 2
}
