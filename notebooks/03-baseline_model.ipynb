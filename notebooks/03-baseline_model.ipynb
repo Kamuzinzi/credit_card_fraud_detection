{
 "cells": [
  {
   "cell_type": "markdown",
   "metadata": {},
   "source": [
    "# Initial models and evaluation"
   ]
  },
  {
   "cell_type": "markdown",
   "metadata": {},
   "source": []
  },
  {
   "cell_type": "code",
   "execution_count": null,
   "metadata": {},
   "outputs": [],
   "source": []
  },
  {
   "cell_type": "code",
   "execution_count": 49,
   "metadata": {},
   "outputs": [],
   "source": [
    "import pandas as pd\n",
    "from sklearn.linear_model import LogisticRegression\n",
    "from sklearn.metrics import classification_report\n",
    "\n",
    "from tensorflow.keras.models import Sequential\n",
    "from tensorflow.keras.layers import InputLayer, Dense, BatchNormalization\n",
    "from tensorflow.keras.callbacks import ModelCheckpoint\n",
    "\n",
    "from sklearn.ensemble import RandomForestClassifier\n",
    "\n",
    "from sklearn.ensemble import GradientBoostingClassifier\n",
    "\n",
    "from sklearn.svm import LinearSVC"
   ]
  },
  {
   "cell_type": "code",
   "execution_count": 2,
   "metadata": {},
   "outputs": [],
   "source": [
    "data = pd.read_csv(\"../data/processed/standardized_creditcard.csv\")"
   ]
  },
  {
   "cell_type": "code",
   "execution_count": 16,
   "metadata": {},
   "outputs": [],
   "source": [
    "train, test, val = data[:240000], data[240000:262000], data[262000:]"
   ]
  },
  {
   "cell_type": "code",
   "execution_count": 17,
   "metadata": {},
   "outputs": [],
   "source": [
    "x_train, y_train = train.to_numpy()[:, :-1], train.to_numpy()[:, -1]\n",
    "x_test, y_test = test.to_numpy()[:, :-1], test.to_numpy()[:, -1]\n",
    "x_val, y_val = val.to_numpy()[:, :-1], val.to_numpy()[:, -1]"
   ]
  },
  {
   "cell_type": "code",
   "execution_count": 19,
   "metadata": {},
   "outputs": [
    {
     "data": {
      "text/plain": [
       "(22807, 32)"
      ]
     },
     "execution_count": 19,
     "metadata": {},
     "output_type": "execute_result"
    }
   ],
   "source": [
    "val.shape"
   ]
  },
  {
   "cell_type": "code",
   "execution_count": 20,
   "metadata": {},
   "outputs": [
    {
     "name": "stderr",
     "output_type": "stream",
     "text": [
      "C:\\Users\\Kamuzinzi N. Egide\\AppData\\Local\\Packages\\PythonSoftwareFoundation.Python.3.8_qbz5n2kfra8p0\\LocalCache\\local-packages\\Python38\\site-packages\\sklearn\\linear_model\\_logistic.py:460: ConvergenceWarning: lbfgs failed to converge (status=1):\n",
      "STOP: TOTAL NO. of ITERATIONS REACHED LIMIT.\n",
      "\n",
      "Increase the number of iterations (max_iter) or scale the data as shown in:\n",
      "    https://scikit-learn.org/stable/modules/preprocessing.html\n",
      "Please also refer to the documentation for alternative solver options:\n",
      "    https://scikit-learn.org/stable/modules/linear_model.html#logistic-regression\n",
      "  n_iter_i = _check_optimize_result(\n"
     ]
    },
    {
     "data": {
      "text/plain": [
       "0.9988875"
      ]
     },
     "execution_count": 20,
     "metadata": {},
     "output_type": "execute_result"
    }
   ],
   "source": [
    "logistic_model = LogisticRegression()\n",
    "logistic_model.fit(x_train, y_train)\n",
    "logistic_model.score(x_train, y_train)"
   ]
  },
  {
   "cell_type": "code",
   "execution_count": 24,
   "metadata": {},
   "outputs": [
    {
     "name": "stdout",
     "output_type": "stream",
     "text": [
      "              precision    recall  f1-score   support\n",
      "\n",
      "  Legitimate       1.00      1.00      1.00     22789\n",
      "  Fraudulent       0.80      0.22      0.35        18\n",
      "\n",
      "    accuracy                           1.00     22807\n",
      "   macro avg       0.90      0.61      0.67     22807\n",
      "weighted avg       1.00      1.00      1.00     22807\n",
      "\n"
     ]
    }
   ],
   "source": [
    "print(classification_report(y_val, logistic_model.predict(x_val), target_names=[\"Legitimate\",\"Fraudulent\"]))"
   ]
  },
  {
   "cell_type": "code",
   "execution_count": 36,
   "metadata": {},
   "outputs": [],
   "source": [
    "shallow_nn = Sequential()\n",
    "shallow_nn.add(InputLayer((x_train.shape[1],)))\n",
    "shallow_nn.add(Dense(2, 'relu'))\n",
    "shallow_nn.add(BatchNormalization())\n",
    "shallow_nn.add(Dense(1, 'sigmoid'))\n",
    "\n",
    "checkpoint = ModelCheckpoint('shallow_nn', save_best_only=True)\n",
    "shallow_nn.compile(optimizer='adam', loss='binary_crossentropy', metrics='accuracy')"
   ]
  },
  {
   "cell_type": "code",
   "execution_count": 37,
   "metadata": {},
   "outputs": [
    {
     "name": "stdout",
     "output_type": "stream",
     "text": [
      "Model: \"sequential_2\"\n",
      "_________________________________________________________________\n",
      " Layer (type)                Output Shape              Param #   \n",
      "=================================================================\n",
      " dense_4 (Dense)             (None, 2)                 64        \n",
      "                                                                 \n",
      " batch_normalization_2 (Bat  (None, 2)                 8         \n",
      " chNormalization)                                                \n",
      "                                                                 \n",
      " dense_5 (Dense)             (None, 1)                 3         \n",
      "                                                                 \n",
      "=================================================================\n",
      "Total params: 75 (300.00 Byte)\n",
      "Trainable params: 71 (284.00 Byte)\n",
      "Non-trainable params: 4 (16.00 Byte)\n",
      "_________________________________________________________________\n"
     ]
    }
   ],
   "source": [
    "shallow_nn.summary()"
   ]
  },
  {
   "cell_type": "code",
   "execution_count": 38,
   "metadata": {},
   "outputs": [
    {
     "name": "stdout",
     "output_type": "stream",
     "text": [
      "Epoch 1/5\n",
      "7476/7500 [============================>.] - ETA: 0s - loss: 0.0577 - accuracy: 0.9858INFO:tensorflow:Assets written to: shallow_nn\\assets\n"
     ]
    },
    {
     "name": "stderr",
     "output_type": "stream",
     "text": [
      "INFO:tensorflow:Assets written to: shallow_nn\\assets\n"
     ]
    },
    {
     "name": "stdout",
     "output_type": "stream",
     "text": [
      "7500/7500 [==============================] - 13s 2ms/step - loss: 0.0576 - accuracy: 0.9858 - val_loss: 0.0069 - val_accuracy: 0.9992\n",
      "Epoch 2/5\n",
      "7474/7500 [============================>.] - ETA: 0s - loss: 0.0133 - accuracy: 0.9982INFO:tensorflow:Assets written to: shallow_nn\\assets\n"
     ]
    },
    {
     "name": "stderr",
     "output_type": "stream",
     "text": [
      "INFO:tensorflow:Assets written to: shallow_nn\\assets\n"
     ]
    },
    {
     "name": "stdout",
     "output_type": "stream",
     "text": [
      "7500/7500 [==============================] - 11s 1ms/step - loss: 0.0133 - accuracy: 0.9982 - val_loss: 0.0066 - val_accuracy: 0.9992\n",
      "Epoch 3/5\n",
      "7500/7500 [==============================] - 14s 2ms/step - loss: 0.0133 - accuracy: 0.9982 - val_loss: 0.0069 - val_accuracy: 0.9992\n",
      "Epoch 4/5\n",
      "7500/7500 [==============================] - 13s 2ms/step - loss: 0.0133 - accuracy: 0.9982 - val_loss: 0.0067 - val_accuracy: 0.9992\n",
      "Epoch 5/5\n",
      "7500/7500 [==============================] - 12s 2ms/step - loss: 0.0133 - accuracy: 0.9982 - val_loss: 0.0068 - val_accuracy: 0.9992\n"
     ]
    },
    {
     "data": {
      "text/plain": [
       "<keras.src.callbacks.History at 0x28d7c78d310>"
      ]
     },
     "execution_count": 38,
     "metadata": {},
     "output_type": "execute_result"
    }
   ],
   "source": [
    "shallow_nn.fit(x_train, y_train, validation_data=(x_val, y_val), epochs=5, callbacks=checkpoint)"
   ]
  },
  {
   "cell_type": "code",
   "execution_count": 39,
   "metadata": {},
   "outputs": [
    {
     "name": "stdout",
     "output_type": "stream",
     "text": [
      "713/713 [==============================] - 1s 2ms/step\n"
     ]
    },
    {
     "data": {
      "text/plain": [
       "array([0, 0, 0, ..., 0, 0, 0])"
      ]
     },
     "execution_count": 39,
     "metadata": {},
     "output_type": "execute_result"
    }
   ],
   "source": [
    "def neural_net_predictions(model, x):\n",
    "    return (model.predict(x).flatten() > 0.5).astype(int)\n",
    "neural_net_predictions(shallow_nn, x_val)\n"
   ]
  },
  {
   "cell_type": "code",
   "execution_count": 40,
   "metadata": {},
   "outputs": [
    {
     "name": "stdout",
     "output_type": "stream",
     "text": [
      "688/688 [==============================] - 1s 1ms/step\n",
      "              precision    recall  f1-score   support\n",
      "\n",
      "  Legitimate       1.00      1.00      1.00     21963\n",
      "  Fraudulent       0.00      0.00      0.00        37\n",
      "\n",
      "    accuracy                           1.00     22000\n",
      "   macro avg       0.50      0.50      0.50     22000\n",
      "weighted avg       1.00      1.00      1.00     22000\n",
      "\n"
     ]
    },
    {
     "name": "stderr",
     "output_type": "stream",
     "text": [
      "C:\\Users\\Kamuzinzi N. Egide\\AppData\\Local\\Packages\\PythonSoftwareFoundation.Python.3.8_qbz5n2kfra8p0\\LocalCache\\local-packages\\Python38\\site-packages\\sklearn\\metrics\\_classification.py:1471: UndefinedMetricWarning: Precision and F-score are ill-defined and being set to 0.0 in labels with no predicted samples. Use `zero_division` parameter to control this behavior.\n",
      "  _warn_prf(average, modifier, msg_start, len(result))\n",
      "C:\\Users\\Kamuzinzi N. Egide\\AppData\\Local\\Packages\\PythonSoftwareFoundation.Python.3.8_qbz5n2kfra8p0\\LocalCache\\local-packages\\Python38\\site-packages\\sklearn\\metrics\\_classification.py:1471: UndefinedMetricWarning: Precision and F-score are ill-defined and being set to 0.0 in labels with no predicted samples. Use `zero_division` parameter to control this behavior.\n",
      "  _warn_prf(average, modifier, msg_start, len(result))\n",
      "C:\\Users\\Kamuzinzi N. Egide\\AppData\\Local\\Packages\\PythonSoftwareFoundation.Python.3.8_qbz5n2kfra8p0\\LocalCache\\local-packages\\Python38\\site-packages\\sklearn\\metrics\\_classification.py:1471: UndefinedMetricWarning: Precision and F-score are ill-defined and being set to 0.0 in labels with no predicted samples. Use `zero_division` parameter to control this behavior.\n",
      "  _warn_prf(average, modifier, msg_start, len(result))\n"
     ]
    }
   ],
   "source": [
    "print(classification_report(y_val, neural_net_predictions(shallow_nn, x_val), target_names=[\"Legitimate\",\"Fraudulent\"]))"
   ]
  },
  {
   "cell_type": "markdown",
   "metadata": {},
   "source": [
    "## Random Forest Classifier"
   ]
  },
  {
   "cell_type": "code",
   "execution_count": 44,
   "metadata": {},
   "outputs": [
    {
     "data": {
      "text/html": [
       "<style>#sk-container-id-1 {color: black;}#sk-container-id-1 pre{padding: 0;}#sk-container-id-1 div.sk-toggleable {background-color: white;}#sk-container-id-1 label.sk-toggleable__label {cursor: pointer;display: block;width: 100%;margin-bottom: 0;padding: 0.3em;box-sizing: border-box;text-align: center;}#sk-container-id-1 label.sk-toggleable__label-arrow:before {content: \"▸\";float: left;margin-right: 0.25em;color: #696969;}#sk-container-id-1 label.sk-toggleable__label-arrow:hover:before {color: black;}#sk-container-id-1 div.sk-estimator:hover label.sk-toggleable__label-arrow:before {color: black;}#sk-container-id-1 div.sk-toggleable__content {max-height: 0;max-width: 0;overflow: hidden;text-align: left;background-color: #f0f8ff;}#sk-container-id-1 div.sk-toggleable__content pre {margin: 0.2em;color: black;border-radius: 0.25em;background-color: #f0f8ff;}#sk-container-id-1 input.sk-toggleable__control:checked~div.sk-toggleable__content {max-height: 200px;max-width: 100%;overflow: auto;}#sk-container-id-1 input.sk-toggleable__control:checked~label.sk-toggleable__label-arrow:before {content: \"▾\";}#sk-container-id-1 div.sk-estimator input.sk-toggleable__control:checked~label.sk-toggleable__label {background-color: #d4ebff;}#sk-container-id-1 div.sk-label input.sk-toggleable__control:checked~label.sk-toggleable__label {background-color: #d4ebff;}#sk-container-id-1 input.sk-hidden--visually {border: 0;clip: rect(1px 1px 1px 1px);clip: rect(1px, 1px, 1px, 1px);height: 1px;margin: -1px;overflow: hidden;padding: 0;position: absolute;width: 1px;}#sk-container-id-1 div.sk-estimator {font-family: monospace;background-color: #f0f8ff;border: 1px dotted black;border-radius: 0.25em;box-sizing: border-box;margin-bottom: 0.5em;}#sk-container-id-1 div.sk-estimator:hover {background-color: #d4ebff;}#sk-container-id-1 div.sk-parallel-item::after {content: \"\";width: 100%;border-bottom: 1px solid gray;flex-grow: 1;}#sk-container-id-1 div.sk-label:hover label.sk-toggleable__label {background-color: #d4ebff;}#sk-container-id-1 div.sk-serial::before {content: \"\";position: absolute;border-left: 1px solid gray;box-sizing: border-box;top: 0;bottom: 0;left: 50%;z-index: 0;}#sk-container-id-1 div.sk-serial {display: flex;flex-direction: column;align-items: center;background-color: white;padding-right: 0.2em;padding-left: 0.2em;position: relative;}#sk-container-id-1 div.sk-item {position: relative;z-index: 1;}#sk-container-id-1 div.sk-parallel {display: flex;align-items: stretch;justify-content: center;background-color: white;position: relative;}#sk-container-id-1 div.sk-item::before, #sk-container-id-1 div.sk-parallel-item::before {content: \"\";position: absolute;border-left: 1px solid gray;box-sizing: border-box;top: 0;bottom: 0;left: 50%;z-index: -1;}#sk-container-id-1 div.sk-parallel-item {display: flex;flex-direction: column;z-index: 1;position: relative;background-color: white;}#sk-container-id-1 div.sk-parallel-item:first-child::after {align-self: flex-end;width: 50%;}#sk-container-id-1 div.sk-parallel-item:last-child::after {align-self: flex-start;width: 50%;}#sk-container-id-1 div.sk-parallel-item:only-child::after {width: 0;}#sk-container-id-1 div.sk-dashed-wrapped {border: 1px dashed gray;margin: 0 0.4em 0.5em 0.4em;box-sizing: border-box;padding-bottom: 0.4em;background-color: white;}#sk-container-id-1 div.sk-label label {font-family: monospace;font-weight: bold;display: inline-block;line-height: 1.2em;}#sk-container-id-1 div.sk-label-container {text-align: center;}#sk-container-id-1 div.sk-container {/* jupyter's `normalize.less` sets `[hidden] { display: none; }` but bootstrap.min.css set `[hidden] { display: none !important; }` so we also need the `!important` here to be able to override the default hidden behavior on the sphinx rendered scikit-learn.org. See: https://github.com/scikit-learn/scikit-learn/issues/21755 */display: inline-block !important;position: relative;}#sk-container-id-1 div.sk-text-repr-fallback {display: none;}</style><div id=\"sk-container-id-1\" class=\"sk-top-container\"><div class=\"sk-text-repr-fallback\"><pre>RandomForestClassifier(max_depth=2, n_jobs=-1)</pre><b>In a Jupyter environment, please rerun this cell to show the HTML representation or trust the notebook. <br />On GitHub, the HTML representation is unable to render, please try loading this page with nbviewer.org.</b></div><div class=\"sk-container\" hidden><div class=\"sk-item\"><div class=\"sk-estimator sk-toggleable\"><input class=\"sk-toggleable__control sk-hidden--visually\" id=\"sk-estimator-id-1\" type=\"checkbox\" checked><label for=\"sk-estimator-id-1\" class=\"sk-toggleable__label sk-toggleable__label-arrow\">RandomForestClassifier</label><div class=\"sk-toggleable__content\"><pre>RandomForestClassifier(max_depth=2, n_jobs=-1)</pre></div></div></div></div></div>"
      ],
      "text/plain": [
       "RandomForestClassifier(max_depth=2, n_jobs=-1)"
      ]
     },
     "execution_count": 44,
     "metadata": {},
     "output_type": "execute_result"
    }
   ],
   "source": [
    "rf = RandomForestClassifier(max_depth=2, n_jobs=-1)\n",
    "rf.fit(x_train, y_train)"
   ]
  },
  {
   "cell_type": "code",
   "execution_count": 46,
   "metadata": {},
   "outputs": [
    {
     "name": "stdout",
     "output_type": "stream",
     "text": [
      "              precision    recall  f1-score   support\n",
      "\n",
      "  Legitimate       1.00      1.00      1.00     22789\n",
      "  Fraudulent       0.89      0.44      0.59        18\n",
      "\n",
      "    accuracy                           1.00     22807\n",
      "   macro avg       0.94      0.72      0.80     22807\n",
      "weighted avg       1.00      1.00      1.00     22807\n",
      "\n"
     ]
    }
   ],
   "source": [
    "\n",
    "print(classification_report(y_val, rf.predict(x_val), target_names=[\"Legitimate\",\"Fraudulent\"]))"
   ]
  },
  {
   "cell_type": "markdown",
   "metadata": {},
   "source": [
    "## Gradient Boosting Classifier"
   ]
  },
  {
   "cell_type": "code",
   "execution_count": 51,
   "metadata": {},
   "outputs": [
    {
     "name": "stdout",
     "output_type": "stream",
     "text": [
      "              precision    recall  f1-score   support\n",
      "\n",
      "  Legitimate       0.00      0.00      0.00     21963\n",
      "  Fraudulent       0.00      1.00      0.00        37\n",
      "\n",
      "    accuracy                           0.00     22000\n",
      "   macro avg       0.00      0.50      0.00     22000\n",
      "weighted avg       0.00      0.00      0.00     22000\n",
      "\n"
     ]
    },
    {
     "name": "stderr",
     "output_type": "stream",
     "text": [
      "C:\\Users\\Kamuzinzi N. Egide\\AppData\\Local\\Packages\\PythonSoftwareFoundation.Python.3.8_qbz5n2kfra8p0\\LocalCache\\local-packages\\Python38\\site-packages\\sklearn\\metrics\\_classification.py:1471: UndefinedMetricWarning: Precision and F-score are ill-defined and being set to 0.0 in labels with no predicted samples. Use `zero_division` parameter to control this behavior.\n",
      "  _warn_prf(average, modifier, msg_start, len(result))\n",
      "C:\\Users\\Kamuzinzi N. Egide\\AppData\\Local\\Packages\\PythonSoftwareFoundation.Python.3.8_qbz5n2kfra8p0\\LocalCache\\local-packages\\Python38\\site-packages\\sklearn\\metrics\\_classification.py:1471: UndefinedMetricWarning: Precision and F-score are ill-defined and being set to 0.0 in labels with no predicted samples. Use `zero_division` parameter to control this behavior.\n",
      "  _warn_prf(average, modifier, msg_start, len(result))\n",
      "C:\\Users\\Kamuzinzi N. Egide\\AppData\\Local\\Packages\\PythonSoftwareFoundation.Python.3.8_qbz5n2kfra8p0\\LocalCache\\local-packages\\Python38\\site-packages\\sklearn\\metrics\\_classification.py:1471: UndefinedMetricWarning: Precision and F-score are ill-defined and being set to 0.0 in labels with no predicted samples. Use `zero_division` parameter to control this behavior.\n",
      "  _warn_prf(average, modifier, msg_start, len(result))\n"
     ]
    }
   ],
   "source": [
    "gbc = GradientBoostingClassifier(n_estimators=50, learning_rate=10, max_depth=1, random_state=0)\n",
    "gbc.fit(x_train, y_train)\n",
    "print(classification_report(y_test, gbc.predict(x_test), target_names=[\"Legitimate\",\"Fraudulent\"]))"
   ]
  },
  {
   "cell_type": "markdown",
   "metadata": {},
   "source": [
    "## Linear Support Vector Machin (SVC)"
   ]
  },
  {
   "cell_type": "code",
   "execution_count": 52,
   "metadata": {},
   "outputs": [
    {
     "name": "stderr",
     "output_type": "stream",
     "text": [
      "C:\\Users\\Kamuzinzi N. Egide\\AppData\\Local\\Packages\\PythonSoftwareFoundation.Python.3.8_qbz5n2kfra8p0\\LocalCache\\local-packages\\Python38\\site-packages\\sklearn\\svm\\_classes.py:32: FutureWarning: The default value of `dual` will change from `True` to `'auto'` in 1.5. Set the value of `dual` explicitly to suppress the warning.\n",
      "  warnings.warn(\n"
     ]
    },
    {
     "name": "stdout",
     "output_type": "stream",
     "text": [
      "              precision    recall  f1-score   support\n",
      "\n",
      "  Legitimate       1.00      1.00      1.00     21963\n",
      "  Fraudulent       0.00      0.00      0.00        37\n",
      "\n",
      "    accuracy                           1.00     22000\n",
      "   macro avg       0.50      0.50      0.50     22000\n",
      "weighted avg       1.00      1.00      1.00     22000\n",
      "\n"
     ]
    },
    {
     "name": "stderr",
     "output_type": "stream",
     "text": [
      "C:\\Users\\Kamuzinzi N. Egide\\AppData\\Local\\Packages\\PythonSoftwareFoundation.Python.3.8_qbz5n2kfra8p0\\LocalCache\\local-packages\\Python38\\site-packages\\sklearn\\svm\\_base.py:1250: ConvergenceWarning: Liblinear failed to converge, increase the number of iterations.\n",
      "  warnings.warn(\n",
      "C:\\Users\\Kamuzinzi N. Egide\\AppData\\Local\\Packages\\PythonSoftwareFoundation.Python.3.8_qbz5n2kfra8p0\\LocalCache\\local-packages\\Python38\\site-packages\\sklearn\\metrics\\_classification.py:1471: UndefinedMetricWarning: Precision and F-score are ill-defined and being set to 0.0 in labels with no predicted samples. Use `zero_division` parameter to control this behavior.\n",
      "  _warn_prf(average, modifier, msg_start, len(result))\n",
      "C:\\Users\\Kamuzinzi N. Egide\\AppData\\Local\\Packages\\PythonSoftwareFoundation.Python.3.8_qbz5n2kfra8p0\\LocalCache\\local-packages\\Python38\\site-packages\\sklearn\\metrics\\_classification.py:1471: UndefinedMetricWarning: Precision and F-score are ill-defined and being set to 0.0 in labels with no predicted samples. Use `zero_division` parameter to control this behavior.\n",
      "  _warn_prf(average, modifier, msg_start, len(result))\n",
      "C:\\Users\\Kamuzinzi N. Egide\\AppData\\Local\\Packages\\PythonSoftwareFoundation.Python.3.8_qbz5n2kfra8p0\\LocalCache\\local-packages\\Python38\\site-packages\\sklearn\\metrics\\_classification.py:1471: UndefinedMetricWarning: Precision and F-score are ill-defined and being set to 0.0 in labels with no predicted samples. Use `zero_division` parameter to control this behavior.\n",
      "  _warn_prf(average, modifier, msg_start, len(result))\n"
     ]
    }
   ],
   "source": [
    "svc = LinearSVC(class_weight='balanced')\n",
    "svc.fit(x_train, y_train)\n",
    "\n",
    "print(classification_report(y_test, svc.predict(x_test), target_names=[\"Legitimate\",\"Fraudulent\"]))"
   ]
  },
  {
   "cell_type": "code",
   "execution_count": 53,
   "metadata": {},
   "outputs": [],
   "source": [
    "legits = data.query('Class == 0')\n",
    "frauds = data.query('Class == 1')"
   ]
  },
  {
   "cell_type": "code",
   "execution_count": 54,
   "metadata": {},
   "outputs": [
    {
     "data": {
      "text/plain": [
       "(Unnamed: 0  Time      V1         V2         V3         V4         V5         V6         V7         V8         V9         V10        V11        V12        V13        V14        V15        V16        V17        V18        V19        V20        V21        V22        V23        V24        V25        V26        V27        V28        Amount     Class\n",
       " 0           0.000000  -1.359807  -0.072781   2.536347   1.378155  -0.338321   0.462388   0.239599   0.098698   0.363787   0.090794  -0.551600  -0.617801  -0.991390  -0.311169   1.468177  -0.470401   0.207971   0.025791   0.403993   0.251412  -0.018307   0.277838  -0.110474   0.066928   0.128539  -0.189115   0.133558  -0.021053   1.783274  0        1\n",
       " 189912      0.744300  -1.237538   3.379870  -1.737462   4.530006   0.517640   0.027493   0.069171   0.767088  -1.280213   2.300581   1.159267  -0.078014   0.276016  -2.334891  -0.057621   0.973769   2.137541   1.358306   1.016821   0.801526  -0.475329  -0.979114   0.257669  -0.651071  -0.431011   0.035013   0.284310   0.022538  -0.275693  0        1\n",
       " 189918      0.744311   1.895408  -0.624157  -0.467808   0.035313  -0.532441   0.034714  -0.651846   0.073338   1.169112  -0.090753   0.494176   1.437794   0.893143  -0.189795  -0.194466   0.341367  -0.868401   0.595129   0.255499  -0.053325   0.239438   0.865279   0.024619  -0.484898  -0.139564   0.133842   0.012132  -0.048540   0.391253  0        1\n",
       " 189917      0.744305   1.778519  -0.112447  -1.234223   0.996746   0.961386   1.807237  -0.624287   0.614767   0.549400  -0.324278   1.189328   0.921828   0.142036  -1.006123   0.685898   0.283751   0.598407  -0.278735  -1.119104  -0.187615  -0.183639  -0.421276   0.364829  -1.126725  -0.523482  -0.902220   0.103952  -0.013608   0.173269  0        1\n",
       " 189916      0.744305  -0.478802   0.472091   0.665899  -0.999682   0.858082  -1.097514   0.874133  -0.063744  -0.403556  -0.644007   0.640117   0.547261  -0.707294   0.478913  -1.403461   0.260811  -0.782842  -0.232820  -0.277639  -0.181351  -0.104549  -0.416574   0.059617   0.057202  -0.693342  -0.006695   0.082494   0.171537  -0.293579  0        1\n",
       "                                                                                                                                                                                                                                                                                                                                                              ..\n",
       " 94994       0.376864   1.234518   0.746345   0.417834   2.390575   0.227318  -0.370836   0.328914  -0.229018  -1.017891   0.661399  -0.604789   0.609298   1.674668  -0.006174   0.288629   0.621697  -0.815461  -0.368855  -0.878462  -0.048975   0.001213   0.068578  -0.116838   0.072978   0.671006   0.053587  -0.006695   0.018444  -0.307413  0        1\n",
       " 94995       0.376864   1.053138  -0.209164  -0.410764   1.599939   1.806409   4.326359  -0.885129   1.075669  -0.136185   0.550248  -0.765783  -0.063014  -0.046393  -0.172055  -0.228807   0.781969  -0.850797   0.321395  -0.516666   0.107876   0.058138   0.032263  -0.192034   1.028359   0.665689   0.157312   0.018499   0.033820   0.749389  0        1\n",
       " 94996       0.376869   1.147937   0.228771   0.346812   1.144225  -0.159220  -0.538803   0.207550  -0.168668  -0.064738  -0.015859  -0.670489   0.384731   0.650896   0.214199   0.983665   0.426489  -0.704025  -0.320881  -0.129817   0.021416  -0.314707  -1.035129   0.050271  -0.165572   0.335908  -0.689178   0.016534   0.037926   0.530986  0        1\n",
       " 94997       0.376869  -0.675890   0.735715   1.813011   0.462158   0.279754  -0.192807   0.408999   0.155927  -1.046898  -0.168043   1.653684   0.382147  -0.514016   0.630060   0.930919  -0.506980   0.194088   0.004287   0.852123   0.115705   0.163112   0.408891  -0.257869   0.261103   0.177160   0.579155   0.028992   0.058181  -0.244533  0        1\n",
       " 284806      1.000000  -0.533413  -0.189733   0.703337  -0.506271  -0.012546  -0.649617   1.577006  -0.414650   0.486180  -0.915427  -1.040458  -0.031513  -0.188093  -0.084316   0.041333  -0.302620  -0.660377   0.167430  -0.256117   0.382948   0.261057   0.643078   0.376777   0.008797  -0.473649  -0.818267  -0.002415   0.013649   2.724796  0        1\n",
       " Length: 284315, dtype: int64,\n",
       " Unnamed: 0  Time      V1          V2          V3          V4         V5          V6         V7          V8          V9          V10         V11       V12         V13        V14        V15        V16        V17         V18        V19        V20        V21         V22        V23         V24        V25        V26        V27        V28        Amount     Class\n",
       " 541         0.002350  -2.312227    1.951992   -1.609851   3.997906   -0.522188   -1.426545  -2.537387    1.391657   -2.770089   -2.772272   3.202033  -2.899907   -0.595222  -4.289254   0.389724  -1.140747  -2.830056   -0.016822   0.416956   0.126911   0.517232   -0.035049  -0.465211    0.320198   0.044519   0.177840   0.261145  -0.143276  -0.307413  1        1\n",
       " 154633      0.592145  -1.020632    1.496959   -4.490937   1.836727    0.627318   -2.735569  -1.546274    0.459822   -0.682741   -4.363102   4.287021  -5.403768    1.260262  -3.087743  -1.317488  -3.537056  -3.172028   -0.529885   1.011626   0.443489   0.773631    0.860618  -0.304666   -0.155500   0.412166  -0.220080   0.392338  -0.020089   0.000559  1        1\n",
       " 154454      0.587973   0.913116    1.145381   -4.602878   2.091803   -0.473224   -2.085436  -1.671244    0.094397    0.337799   -4.431810   4.871980  -5.395221    1.332502  -4.603797  -0.777314  -2.571892  -3.003615   -0.225441   0.252274   0.508985   0.401416   -0.084933  -0.197684   -0.283271   0.387597  -0.553527   0.516274   0.270828   1.758821  1        1\n",
       " 154371      0.586329  -25.825982   19.167239  -25.390229  11.125435  -16.682644   3.933699  -37.060311  -28.759799  -11.126624  -23.228255  3.785977  -10.522494  -2.657496  -3.792795  -4.498945  -6.557873  -12.867245  -5.804590  -1.254465   7.907378  -16.922016   5.703684   3.510019    0.054330  -0.671983  -0.209431  -4.950022  -0.448413  -0.275554  1        1\n",
       " 154286      0.584813  -1.465316   -1.093377   -0.059768   1.064785    11.095089  -5.430971  -9.378025   -0.446456    1.992110    1.785922   1.368585  -1.471697   -0.724759   3.442422  -0.957403  -1.626129   1.418215   -1.417917  -1.651766  -1.457610   1.160623   -1.259697  -15.981649  -0.883670  -3.536716  -0.592965   0.675525   0.424849  -0.294557  1        1\n",
       "                                                                                                                                                                                                                                                                                                                                                                         ..\n",
       " 57615       0.277686  -1.232804    2.244119   -1.703826   1.492536   -1.192985   -1.686110  -1.864612    0.856122   -1.973535   -3.942383   2.401651  -3.394266   -0.145162  -4.329796   0.758761  -3.199046  -4.480184   -2.485669  -0.095807   0.207889   0.560475    0.165682  -0.013754    0.474935  -0.218725   0.302809   0.466031   0.250134  -0.296793  1        1\n",
       " 57470       0.277345   0.364377    1.443523   -2.220907   2.036985   -1.237055   -1.728161  -2.058582    0.358895   -1.393306   -3.505790   2.814314  -3.342176   -0.150269  -4.820322   1.102610  -3.157033  -4.405850   -2.558828  -0.208810   0.310980   0.402730   -0.132129  -0.032977    0.460861   0.560404   0.409366   0.539668   0.296918  -0.296793  1        1\n",
       " 57248       0.276784  -0.887287    1.390002    1.219686   1.661425    1.009228   -0.733908   0.855829    0.000077   -1.275631   -0.433394   0.141179  -0.460348   -0.367868  -1.168339   0.152108   0.882232   0.601805   -0.304092  -2.191764  -0.268347  -0.083734   -0.346930  -0.050619    0.231044  -0.450760  -0.376205   0.034504   0.157775  -0.201495  1        1\n",
       " 56703       0.275157   1.176716    0.557091   -0.490800   0.756424    0.249192   -0.781871   0.228750   -0.040840   -0.432111   -0.585778   2.281939   0.654567   -0.310379  -1.043705   0.513750   0.399178   1.143130    0.256014  -0.511210  -0.102772  -0.062166   -0.128168  -0.040176    0.110040   0.437891   0.368809  -0.018287   0.031173  -0.296793  1        1\n",
       " 281674      0.985856   1.991976    0.158476   -2.583441   0.408670    1.151147   -0.096695   0.223050   -0.068384    0.577829   -0.888722   0.491140   0.728903    0.380428  -1.948883  -0.832498   0.519436   0.903562    1.197315   0.593509  -0.017652  -0.164350   -0.295135  -0.072173   -0.450261   0.313267  -0.289617   0.002988  -0.015309   0.286872  1        1\n",
       " Length: 492, dtype: int64)"
      ]
     },
     "execution_count": 54,
     "metadata": {},
     "output_type": "execute_result"
    }
   ],
   "source": [
    "legits['Class'].value_counts(), frauds['Class'].value_counts()"
   ]
  },
  {
   "cell_type": "code",
   "execution_count": null,
   "metadata": {},
   "outputs": [],
   "source": []
  }
 ],
 "metadata": {
  "kernelspec": {
   "display_name": "Python 3",
   "language": "python",
   "name": "python3"
  },
  "language_info": {
   "codemirror_mode": {
    "name": "ipython",
    "version": 3
   },
   "file_extension": ".py",
   "mimetype": "text/x-python",
   "name": "python",
   "nbconvert_exporter": "python",
   "pygments_lexer": "ipython3",
   "version": "3.8.10"
  }
 },
 "nbformat": 4,
 "nbformat_minor": 2
}
