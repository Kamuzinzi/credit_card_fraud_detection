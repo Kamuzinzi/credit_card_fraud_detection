{
 "cells": [
  {
   "cell_type": "markdown",
   "metadata": {},
   "source": [
    "# Initial models and evaluation"
   ]
  },
  {
   "cell_type": "markdown",
   "metadata": {},
   "source": []
  },
  {
   "cell_type": "code",
   "execution_count": null,
   "metadata": {},
   "outputs": [],
   "source": []
  },
  {
   "cell_type": "code",
   "execution_count": 49,
   "metadata": {},
   "outputs": [],
   "source": [
    "import pandas as pd\n",
    "from sklearn.linear_model import LogisticRegression\n",
    "from sklearn.metrics import classification_report\n",
    "\n",
    "from tensorflow.keras.models import Sequential\n",
    "from tensorflow.keras.layers import InputLayer, Dense, BatchNormalization\n",
    "from tensorflow.keras.callbacks import ModelCheckpoint\n",
    "\n",
    "from sklearn.ensemble import RandomForestClassifier\n",
    "\n",
    "from sklearn.ensemble import GradientBoostingClassifier\n",
    "\n",
    "from sklearn.svm import LinearSVC"
   ]
  },
  {
   "cell_type": "code",
   "execution_count": 2,
   "metadata": {},
   "outputs": [],
   "source": [
    "data = pd.read_csv(\"../data/processed/standardized_creditcard.csv\")"
   ]
  },
  {
   "cell_type": "code",
   "execution_count": 16,
   "metadata": {},
   "outputs": [],
   "source": [
    "train, test, val = data[:240000], data[240000:262000], data[262000:]"
   ]
  },
  {
   "cell_type": "code",
   "execution_count": 17,
   "metadata": {},
   "outputs": [],
   "source": [
    "x_train, y_train = train.to_numpy()[:, :-1], train.to_numpy()[:, -1]\n",
    "x_test, y_test = test.to_numpy()[:, :-1], test.to_numpy()[:, -1]\n",
    "x_val, y_val = val.to_numpy()[:, :-1], val.to_numpy()[:, -1]"
   ]
  },
  {
   "cell_type": "code",
   "execution_count": 19,
   "metadata": {},
   "outputs": [
    {
     "data": {
      "text/plain": [
       "(22807, 32)"
      ]
     },
     "execution_count": 19,
     "metadata": {},
     "output_type": "execute_result"
    }
   ],
   "source": [
    "val.shape"
   ]
  },
  {
   "cell_type": "markdown",
   "metadata": {},
   "source": [
    "## Logistic Regression"
   ]
  },
  {
   "cell_type": "code",
   "execution_count": 20,
   "metadata": {},
   "outputs": [
    {
     "name": "stderr",
     "output_type": "stream",
     "text": [
      "C:\\Users\\Kamuzinzi N. Egide\\AppData\\Local\\Packages\\PythonSoftwareFoundation.Python.3.8_qbz5n2kfra8p0\\LocalCache\\local-packages\\Python38\\site-packages\\sklearn\\linear_model\\_logistic.py:460: ConvergenceWarning: lbfgs failed to converge (status=1):\n",
      "STOP: TOTAL NO. of ITERATIONS REACHED LIMIT.\n",
      "\n",
      "Increase the number of iterations (max_iter) or scale the data as shown in:\n",
      "    https://scikit-learn.org/stable/modules/preprocessing.html\n",
      "Please also refer to the documentation for alternative solver options:\n",
      "    https://scikit-learn.org/stable/modules/linear_model.html#logistic-regression\n",
      "  n_iter_i = _check_optimize_result(\n"
     ]
    },
    {
     "data": {
      "text/plain": [
       "0.9988875"
      ]
     },
     "execution_count": 20,
     "metadata": {},
     "output_type": "execute_result"
    }
   ],
   "source": [
    "logistic_model = LogisticRegression()\n",
    "logistic_model.fit(x_train, y_train)\n",
    "logistic_model.score(x_train, y_train)"
   ]
  },
  {
   "cell_type": "code",
   "execution_count": 24,
   "metadata": {},
   "outputs": [
    {
     "name": "stdout",
     "output_type": "stream",
     "text": [
      "              precision    recall  f1-score   support\n",
      "\n",
      "  Legitimate       1.00      1.00      1.00     22789\n",
      "  Fraudulent       0.80      0.22      0.35        18\n",
      "\n",
      "    accuracy                           1.00     22807\n",
      "   macro avg       0.90      0.61      0.67     22807\n",
      "weighted avg       1.00      1.00      1.00     22807\n",
      "\n"
     ]
    }
   ],
   "source": [
    "print(classification_report(y_val, logistic_model.predict(x_val), target_names=[\"Legitimate\",\"Fraudulent\"]))"
   ]
  },
  {
   "cell_type": "code",
   "execution_count": 36,
   "metadata": {},
   "outputs": [],
   "source": [
    "shallow_nn = Sequential()\n",
    "shallow_nn.add(InputLayer((x_train.shape[1],)))\n",
    "shallow_nn.add(Dense(2, 'relu'))\n",
    "shallow_nn.add(BatchNormalization())\n",
    "shallow_nn.add(Dense(1, 'sigmoid'))\n",
    "\n",
    "checkpoint = ModelCheckpoint('shallow_nn', save_best_only=True)\n",
    "shallow_nn.compile(optimizer='adam', loss='binary_crossentropy', metrics='accuracy')"
   ]
  },
  {
   "cell_type": "code",
   "execution_count": 37,
   "metadata": {},
   "outputs": [
    {
     "name": "stdout",
     "output_type": "stream",
     "text": [
      "Model: \"sequential_2\"\n",
      "_________________________________________________________________\n",
      " Layer (type)                Output Shape              Param #   \n",
      "=================================================================\n",
      " dense_4 (Dense)             (None, 2)                 64        \n",
      "                                                                 \n",
      " batch_normalization_2 (Bat  (None, 2)                 8         \n",
      " chNormalization)                                                \n",
      "                                                                 \n",
      " dense_5 (Dense)             (None, 1)                 3         \n",
      "                                                                 \n",
      "=================================================================\n",
      "Total params: 75 (300.00 Byte)\n",
      "Trainable params: 71 (284.00 Byte)\n",
      "Non-trainable params: 4 (16.00 Byte)\n",
      "_________________________________________________________________\n"
     ]
    }
   ],
   "source": [
    "shallow_nn.summary()"
   ]
  },
  {
   "cell_type": "code",
   "execution_count": 38,
   "metadata": {},
   "outputs": [
    {
     "name": "stdout",
     "output_type": "stream",
     "text": [
      "Epoch 1/5\n",
      "7476/7500 [============================>.] - ETA: 0s - loss: 0.0577 - accuracy: 0.9858INFO:tensorflow:Assets written to: shallow_nn\\assets\n"
     ]
    },
    {
     "name": "stderr",
     "output_type": "stream",
     "text": [
      "INFO:tensorflow:Assets written to: shallow_nn\\assets\n"
     ]
    },
    {
     "name": "stdout",
     "output_type": "stream",
     "text": [
      "7500/7500 [==============================] - 13s 2ms/step - loss: 0.0576 - accuracy: 0.9858 - val_loss: 0.0069 - val_accuracy: 0.9992\n",
      "Epoch 2/5\n",
      "7474/7500 [============================>.] - ETA: 0s - loss: 0.0133 - accuracy: 0.9982INFO:tensorflow:Assets written to: shallow_nn\\assets\n"
     ]
    },
    {
     "name": "stderr",
     "output_type": "stream",
     "text": [
      "INFO:tensorflow:Assets written to: shallow_nn\\assets\n"
     ]
    },
    {
     "name": "stdout",
     "output_type": "stream",
     "text": [
      "7500/7500 [==============================] - 11s 1ms/step - loss: 0.0133 - accuracy: 0.9982 - val_loss: 0.0066 - val_accuracy: 0.9992\n",
      "Epoch 3/5\n",
      "7500/7500 [==============================] - 14s 2ms/step - loss: 0.0133 - accuracy: 0.9982 - val_loss: 0.0069 - val_accuracy: 0.9992\n",
      "Epoch 4/5\n",
      "7500/7500 [==============================] - 13s 2ms/step - loss: 0.0133 - accuracy: 0.9982 - val_loss: 0.0067 - val_accuracy: 0.9992\n",
      "Epoch 5/5\n",
      "7500/7500 [==============================] - 12s 2ms/step - loss: 0.0133 - accuracy: 0.9982 - val_loss: 0.0068 - val_accuracy: 0.9992\n"
     ]
    },
    {
     "data": {
      "text/plain": [
       "<keras.src.callbacks.History at 0x28d7c78d310>"
      ]
     },
     "execution_count": 38,
     "metadata": {},
     "output_type": "execute_result"
    }
   ],
   "source": [
    "shallow_nn.fit(x_train, y_train, validation_data=(x_val, y_val), epochs=5, callbacks=checkpoint)"
   ]
  },
  {
   "cell_type": "code",
   "execution_count": 39,
   "metadata": {},
   "outputs": [
    {
     "name": "stdout",
     "output_type": "stream",
     "text": [
      "713/713 [==============================] - 1s 2ms/step\n"
     ]
    },
    {
     "data": {
      "text/plain": [
       "array([0, 0, 0, ..., 0, 0, 0])"
      ]
     },
     "execution_count": 39,
     "metadata": {},
     "output_type": "execute_result"
    }
   ],
   "source": [
    "def neural_net_predictions(model, x):\n",
    "    return (model.predict(x).flatten() > 0.5).astype(int)\n",
    "neural_net_predictions(shallow_nn, x_val)\n"
   ]
  },
  {
   "cell_type": "code",
   "execution_count": 40,
   "metadata": {},
   "outputs": [
    {
     "name": "stdout",
     "output_type": "stream",
     "text": [
      "688/688 [==============================] - 1s 1ms/step\n",
      "              precision    recall  f1-score   support\n",
      "\n",
      "  Legitimate       1.00      1.00      1.00     21963\n",
      "  Fraudulent       0.00      0.00      0.00        37\n",
      "\n",
      "    accuracy                           1.00     22000\n",
      "   macro avg       0.50      0.50      0.50     22000\n",
      "weighted avg       1.00      1.00      1.00     22000\n",
      "\n"
     ]
    },
    {
     "name": "stderr",
     "output_type": "stream",
     "text": [
      "C:\\Users\\Kamuzinzi N. Egide\\AppData\\Local\\Packages\\PythonSoftwareFoundation.Python.3.8_qbz5n2kfra8p0\\LocalCache\\local-packages\\Python38\\site-packages\\sklearn\\metrics\\_classification.py:1471: UndefinedMetricWarning: Precision and F-score are ill-defined and being set to 0.0 in labels with no predicted samples. Use `zero_division` parameter to control this behavior.\n",
      "  _warn_prf(average, modifier, msg_start, len(result))\n",
      "C:\\Users\\Kamuzinzi N. Egide\\AppData\\Local\\Packages\\PythonSoftwareFoundation.Python.3.8_qbz5n2kfra8p0\\LocalCache\\local-packages\\Python38\\site-packages\\sklearn\\metrics\\_classification.py:1471: UndefinedMetricWarning: Precision and F-score are ill-defined and being set to 0.0 in labels with no predicted samples. Use `zero_division` parameter to control this behavior.\n",
      "  _warn_prf(average, modifier, msg_start, len(result))\n",
      "C:\\Users\\Kamuzinzi N. Egide\\AppData\\Local\\Packages\\PythonSoftwareFoundation.Python.3.8_qbz5n2kfra8p0\\LocalCache\\local-packages\\Python38\\site-packages\\sklearn\\metrics\\_classification.py:1471: UndefinedMetricWarning: Precision and F-score are ill-defined and being set to 0.0 in labels with no predicted samples. Use `zero_division` parameter to control this behavior.\n",
      "  _warn_prf(average, modifier, msg_start, len(result))\n"
     ]
    }
   ],
   "source": [
    "print(classification_report(y_val, neural_net_predictions(shallow_nn, x_val), target_names=[\"Legitimate\",\"Fraudulent\"]))"
   ]
  },
  {
   "cell_type": "markdown",
   "metadata": {},
   "source": [
    "## Random Forest Classifier"
   ]
  },
  {
   "cell_type": "code",
   "execution_count": 44,
   "metadata": {},
   "outputs": [
    {
     "data": {
      "text/html": [
       "<style>#sk-container-id-1 {color: black;}#sk-container-id-1 pre{padding: 0;}#sk-container-id-1 div.sk-toggleable {background-color: white;}#sk-container-id-1 label.sk-toggleable__label {cursor: pointer;display: block;width: 100%;margin-bottom: 0;padding: 0.3em;box-sizing: border-box;text-align: center;}#sk-container-id-1 label.sk-toggleable__label-arrow:before {content: \"▸\";float: left;margin-right: 0.25em;color: #696969;}#sk-container-id-1 label.sk-toggleable__label-arrow:hover:before {color: black;}#sk-container-id-1 div.sk-estimator:hover label.sk-toggleable__label-arrow:before {color: black;}#sk-container-id-1 div.sk-toggleable__content {max-height: 0;max-width: 0;overflow: hidden;text-align: left;background-color: #f0f8ff;}#sk-container-id-1 div.sk-toggleable__content pre {margin: 0.2em;color: black;border-radius: 0.25em;background-color: #f0f8ff;}#sk-container-id-1 input.sk-toggleable__control:checked~div.sk-toggleable__content {max-height: 200px;max-width: 100%;overflow: auto;}#sk-container-id-1 input.sk-toggleable__control:checked~label.sk-toggleable__label-arrow:before {content: \"▾\";}#sk-container-id-1 div.sk-estimator input.sk-toggleable__control:checked~label.sk-toggleable__label {background-color: #d4ebff;}#sk-container-id-1 div.sk-label input.sk-toggleable__control:checked~label.sk-toggleable__label {background-color: #d4ebff;}#sk-container-id-1 input.sk-hidden--visually {border: 0;clip: rect(1px 1px 1px 1px);clip: rect(1px, 1px, 1px, 1px);height: 1px;margin: -1px;overflow: hidden;padding: 0;position: absolute;width: 1px;}#sk-container-id-1 div.sk-estimator {font-family: monospace;background-color: #f0f8ff;border: 1px dotted black;border-radius: 0.25em;box-sizing: border-box;margin-bottom: 0.5em;}#sk-container-id-1 div.sk-estimator:hover {background-color: #d4ebff;}#sk-container-id-1 div.sk-parallel-item::after {content: \"\";width: 100%;border-bottom: 1px solid gray;flex-grow: 1;}#sk-container-id-1 div.sk-label:hover label.sk-toggleable__label {background-color: #d4ebff;}#sk-container-id-1 div.sk-serial::before {content: \"\";position: absolute;border-left: 1px solid gray;box-sizing: border-box;top: 0;bottom: 0;left: 50%;z-index: 0;}#sk-container-id-1 div.sk-serial {display: flex;flex-direction: column;align-items: center;background-color: white;padding-right: 0.2em;padding-left: 0.2em;position: relative;}#sk-container-id-1 div.sk-item {position: relative;z-index: 1;}#sk-container-id-1 div.sk-parallel {display: flex;align-items: stretch;justify-content: center;background-color: white;position: relative;}#sk-container-id-1 div.sk-item::before, #sk-container-id-1 div.sk-parallel-item::before {content: \"\";position: absolute;border-left: 1px solid gray;box-sizing: border-box;top: 0;bottom: 0;left: 50%;z-index: -1;}#sk-container-id-1 div.sk-parallel-item {display: flex;flex-direction: column;z-index: 1;position: relative;background-color: white;}#sk-container-id-1 div.sk-parallel-item:first-child::after {align-self: flex-end;width: 50%;}#sk-container-id-1 div.sk-parallel-item:last-child::after {align-self: flex-start;width: 50%;}#sk-container-id-1 div.sk-parallel-item:only-child::after {width: 0;}#sk-container-id-1 div.sk-dashed-wrapped {border: 1px dashed gray;margin: 0 0.4em 0.5em 0.4em;box-sizing: border-box;padding-bottom: 0.4em;background-color: white;}#sk-container-id-1 div.sk-label label {font-family: monospace;font-weight: bold;display: inline-block;line-height: 1.2em;}#sk-container-id-1 div.sk-label-container {text-align: center;}#sk-container-id-1 div.sk-container {/* jupyter's `normalize.less` sets `[hidden] { display: none; }` but bootstrap.min.css set `[hidden] { display: none !important; }` so we also need the `!important` here to be able to override the default hidden behavior on the sphinx rendered scikit-learn.org. See: https://github.com/scikit-learn/scikit-learn/issues/21755 */display: inline-block !important;position: relative;}#sk-container-id-1 div.sk-text-repr-fallback {display: none;}</style><div id=\"sk-container-id-1\" class=\"sk-top-container\"><div class=\"sk-text-repr-fallback\"><pre>RandomForestClassifier(max_depth=2, n_jobs=-1)</pre><b>In a Jupyter environment, please rerun this cell to show the HTML representation or trust the notebook. <br />On GitHub, the HTML representation is unable to render, please try loading this page with nbviewer.org.</b></div><div class=\"sk-container\" hidden><div class=\"sk-item\"><div class=\"sk-estimator sk-toggleable\"><input class=\"sk-toggleable__control sk-hidden--visually\" id=\"sk-estimator-id-1\" type=\"checkbox\" checked><label for=\"sk-estimator-id-1\" class=\"sk-toggleable__label sk-toggleable__label-arrow\">RandomForestClassifier</label><div class=\"sk-toggleable__content\"><pre>RandomForestClassifier(max_depth=2, n_jobs=-1)</pre></div></div></div></div></div>"
      ],
      "text/plain": [
       "RandomForestClassifier(max_depth=2, n_jobs=-1)"
      ]
     },
     "execution_count": 44,
     "metadata": {},
     "output_type": "execute_result"
    }
   ],
   "source": [
    "rf = RandomForestClassifier(max_depth=2, n_jobs=-1)\n",
    "rf.fit(x_train, y_train)"
   ]
  },
  {
   "cell_type": "code",
   "execution_count": 46,
   "metadata": {},
   "outputs": [
    {
     "name": "stdout",
     "output_type": "stream",
     "text": [
      "              precision    recall  f1-score   support\n",
      "\n",
      "  Legitimate       1.00      1.00      1.00     22789\n",
      "  Fraudulent       0.89      0.44      0.59        18\n",
      "\n",
      "    accuracy                           1.00     22807\n",
      "   macro avg       0.94      0.72      0.80     22807\n",
      "weighted avg       1.00      1.00      1.00     22807\n",
      "\n"
     ]
    }
   ],
   "source": [
    "\n",
    "print(classification_report(y_val, rf.predict(x_val), target_names=[\"Legitimate\",\"Fraudulent\"]))"
   ]
  },
  {
   "cell_type": "markdown",
   "metadata": {},
   "source": [
    "## Gradient Boosting Classifier"
   ]
  },
  {
   "cell_type": "code",
   "execution_count": 51,
   "metadata": {},
   "outputs": [
    {
     "name": "stdout",
     "output_type": "stream",
     "text": [
      "              precision    recall  f1-score   support\n",
      "\n",
      "  Legitimate       0.00      0.00      0.00     21963\n",
      "  Fraudulent       0.00      1.00      0.00        37\n",
      "\n",
      "    accuracy                           0.00     22000\n",
      "   macro avg       0.00      0.50      0.00     22000\n",
      "weighted avg       0.00      0.00      0.00     22000\n",
      "\n"
     ]
    },
    {
     "name": "stderr",
     "output_type": "stream",
     "text": [
      "C:\\Users\\Kamuzinzi N. Egide\\AppData\\Local\\Packages\\PythonSoftwareFoundation.Python.3.8_qbz5n2kfra8p0\\LocalCache\\local-packages\\Python38\\site-packages\\sklearn\\metrics\\_classification.py:1471: UndefinedMetricWarning: Precision and F-score are ill-defined and being set to 0.0 in labels with no predicted samples. Use `zero_division` parameter to control this behavior.\n",
      "  _warn_prf(average, modifier, msg_start, len(result))\n",
      "C:\\Users\\Kamuzinzi N. Egide\\AppData\\Local\\Packages\\PythonSoftwareFoundation.Python.3.8_qbz5n2kfra8p0\\LocalCache\\local-packages\\Python38\\site-packages\\sklearn\\metrics\\_classification.py:1471: UndefinedMetricWarning: Precision and F-score are ill-defined and being set to 0.0 in labels with no predicted samples. Use `zero_division` parameter to control this behavior.\n",
      "  _warn_prf(average, modifier, msg_start, len(result))\n",
      "C:\\Users\\Kamuzinzi N. Egide\\AppData\\Local\\Packages\\PythonSoftwareFoundation.Python.3.8_qbz5n2kfra8p0\\LocalCache\\local-packages\\Python38\\site-packages\\sklearn\\metrics\\_classification.py:1471: UndefinedMetricWarning: Precision and F-score are ill-defined and being set to 0.0 in labels with no predicted samples. Use `zero_division` parameter to control this behavior.\n",
      "  _warn_prf(average, modifier, msg_start, len(result))\n"
     ]
    }
   ],
   "source": [
    "gbc = GradientBoostingClassifier(n_estimators=50, learning_rate=10, max_depth=1, random_state=0)\n",
    "gbc.fit(x_train, y_train)\n",
    "print(classification_report(y_test, gbc.predict(x_test), target_names=[\"Legitimate\",\"Fraudulent\"]))"
   ]
  },
  {
   "cell_type": "markdown",
   "metadata": {},
   "source": [
    "## Linear Support Vector Machin (SVC)"
   ]
  },
  {
   "cell_type": "code",
   "execution_count": 52,
   "metadata": {},
   "outputs": [
    {
     "name": "stderr",
     "output_type": "stream",
     "text": [
      "C:\\Users\\Kamuzinzi N. Egide\\AppData\\Local\\Packages\\PythonSoftwareFoundation.Python.3.8_qbz5n2kfra8p0\\LocalCache\\local-packages\\Python38\\site-packages\\sklearn\\svm\\_classes.py:32: FutureWarning: The default value of `dual` will change from `True` to `'auto'` in 1.5. Set the value of `dual` explicitly to suppress the warning.\n",
      "  warnings.warn(\n"
     ]
    },
    {
     "name": "stdout",
     "output_type": "stream",
     "text": [
      "              precision    recall  f1-score   support\n",
      "\n",
      "  Legitimate       1.00      1.00      1.00     21963\n",
      "  Fraudulent       0.00      0.00      0.00        37\n",
      "\n",
      "    accuracy                           1.00     22000\n",
      "   macro avg       0.50      0.50      0.50     22000\n",
      "weighted avg       1.00      1.00      1.00     22000\n",
      "\n"
     ]
    },
    {
     "name": "stderr",
     "output_type": "stream",
     "text": [
      "C:\\Users\\Kamuzinzi N. Egide\\AppData\\Local\\Packages\\PythonSoftwareFoundation.Python.3.8_qbz5n2kfra8p0\\LocalCache\\local-packages\\Python38\\site-packages\\sklearn\\svm\\_base.py:1250: ConvergenceWarning: Liblinear failed to converge, increase the number of iterations.\n",
      "  warnings.warn(\n",
      "C:\\Users\\Kamuzinzi N. Egide\\AppData\\Local\\Packages\\PythonSoftwareFoundation.Python.3.8_qbz5n2kfra8p0\\LocalCache\\local-packages\\Python38\\site-packages\\sklearn\\metrics\\_classification.py:1471: UndefinedMetricWarning: Precision and F-score are ill-defined and being set to 0.0 in labels with no predicted samples. Use `zero_division` parameter to control this behavior.\n",
      "  _warn_prf(average, modifier, msg_start, len(result))\n",
      "C:\\Users\\Kamuzinzi N. Egide\\AppData\\Local\\Packages\\PythonSoftwareFoundation.Python.3.8_qbz5n2kfra8p0\\LocalCache\\local-packages\\Python38\\site-packages\\sklearn\\metrics\\_classification.py:1471: UndefinedMetricWarning: Precision and F-score are ill-defined and being set to 0.0 in labels with no predicted samples. Use `zero_division` parameter to control this behavior.\n",
      "  _warn_prf(average, modifier, msg_start, len(result))\n",
      "C:\\Users\\Kamuzinzi N. Egide\\AppData\\Local\\Packages\\PythonSoftwareFoundation.Python.3.8_qbz5n2kfra8p0\\LocalCache\\local-packages\\Python38\\site-packages\\sklearn\\metrics\\_classification.py:1471: UndefinedMetricWarning: Precision and F-score are ill-defined and being set to 0.0 in labels with no predicted samples. Use `zero_division` parameter to control this behavior.\n",
      "  _warn_prf(average, modifier, msg_start, len(result))\n"
     ]
    }
   ],
   "source": [
    "svc = LinearSVC(class_weight='balanced')\n",
    "svc.fit(x_train, y_train)\n",
    "\n",
    "print(classification_report(y_test, svc.predict(x_test), target_names=[\"Legitimate\",\"Fraudulent\"]))"
   ]
  },
  {
   "cell_type": "code",
   "execution_count": 53,
   "metadata": {},
   "outputs": [],
   "source": [
    "legits = data.query('Class == 0')\n",
    "frauds = data.query('Class == 1')"
   ]
  },
  {
   "cell_type": "code",
   "execution_count": 55,
   "metadata": {},
   "outputs": [
    {
     "data": {
      "text/plain": [
       "(0    284315\n",
       " Name: Class, dtype: int64,\n",
       " 1    492\n",
       " Name: Class, dtype: int64)"
      ]
     },
     "execution_count": 55,
     "metadata": {},
     "output_type": "execute_result"
    }
   ],
   "source": [
    "legits['Class'].value_counts(), frauds['Class'].value_counts()"
   ]
  },
  {
   "cell_type": "code",
   "execution_count": 63,
   "metadata": {},
   "outputs": [],
   "source": [
    "balanced_df = pd.concat([frauds, legits.sample(len(frauds), random_state=1)])"
   ]
  },
  {
   "cell_type": "code",
   "execution_count": 64,
   "metadata": {},
   "outputs": [
    {
     "data": {
      "text/plain": [
       "(984, 32)"
      ]
     },
     "execution_count": 64,
     "metadata": {},
     "output_type": "execute_result"
    }
   ],
   "source": [
    "balanced_df.shape"
   ]
  },
  {
   "cell_type": "code",
   "execution_count": 58,
   "metadata": {},
   "outputs": [],
   "source": [
    "balanced_df = balanced_df.sample(frac=1, random_state=1)"
   ]
  },
  {
   "cell_type": "code",
   "execution_count": 59,
   "metadata": {},
   "outputs": [
    {
     "data": {
      "text/html": [
       "<div>\n",
       "<style scoped>\n",
       "    .dataframe tbody tr th:only-of-type {\n",
       "        vertical-align: middle;\n",
       "    }\n",
       "\n",
       "    .dataframe tbody tr th {\n",
       "        vertical-align: top;\n",
       "    }\n",
       "\n",
       "    .dataframe thead th {\n",
       "        text-align: right;\n",
       "    }\n",
       "</style>\n",
       "<table border=\"1\" class=\"dataframe\">\n",
       "  <thead>\n",
       "    <tr style=\"text-align: right;\">\n",
       "      <th></th>\n",
       "      <th>Unnamed: 0</th>\n",
       "      <th>Time</th>\n",
       "      <th>V1</th>\n",
       "      <th>V2</th>\n",
       "      <th>V3</th>\n",
       "      <th>V4</th>\n",
       "      <th>V5</th>\n",
       "      <th>V6</th>\n",
       "      <th>V7</th>\n",
       "      <th>V8</th>\n",
       "      <th>...</th>\n",
       "      <th>V21</th>\n",
       "      <th>V22</th>\n",
       "      <th>V23</th>\n",
       "      <th>V24</th>\n",
       "      <th>V25</th>\n",
       "      <th>V26</th>\n",
       "      <th>V27</th>\n",
       "      <th>V28</th>\n",
       "      <th>Amount</th>\n",
       "      <th>Class</th>\n",
       "    </tr>\n",
       "  </thead>\n",
       "  <tbody>\n",
       "    <tr>\n",
       "      <th>189959</th>\n",
       "      <td>189959</td>\n",
       "      <td>0.744404</td>\n",
       "      <td>-0.865285</td>\n",
       "      <td>-0.979506</td>\n",
       "      <td>2.587540</td>\n",
       "      <td>-2.781144</td>\n",
       "      <td>-0.887336</td>\n",
       "      <td>-0.579689</td>\n",
       "      <td>-0.976755</td>\n",
       "      <td>0.132058</td>\n",
       "      <td>...</td>\n",
       "      <td>-0.106978</td>\n",
       "      <td>-0.010528</td>\n",
       "      <td>-0.211955</td>\n",
       "      <td>0.021026</td>\n",
       "      <td>0.358237</td>\n",
       "      <td>-0.209483</td>\n",
       "      <td>0.062051</td>\n",
       "      <td>0.074730</td>\n",
       "      <td>-0.195626</td>\n",
       "      <td>0</td>\n",
       "    </tr>\n",
       "    <tr>\n",
       "      <th>107637</th>\n",
       "      <td>107637</td>\n",
       "      <td>0.408213</td>\n",
       "      <td>-2.271755</td>\n",
       "      <td>-0.457655</td>\n",
       "      <td>-2.589055</td>\n",
       "      <td>2.230778</td>\n",
       "      <td>-4.278983</td>\n",
       "      <td>0.388610</td>\n",
       "      <td>0.102485</td>\n",
       "      <td>0.813128</td>\n",
       "      <td>...</td>\n",
       "      <td>1.096342</td>\n",
       "      <td>0.658399</td>\n",
       "      <td>1.711676</td>\n",
       "      <td>0.333540</td>\n",
       "      <td>0.538591</td>\n",
       "      <td>-0.193529</td>\n",
       "      <td>0.258194</td>\n",
       "      <td>0.247269</td>\n",
       "      <td>11.218193</td>\n",
       "      <td>1</td>\n",
       "    </tr>\n",
       "    <tr>\n",
       "      <th>275992</th>\n",
       "      <td>275992</td>\n",
       "      <td>0.965502</td>\n",
       "      <td>-2.027135</td>\n",
       "      <td>-1.131890</td>\n",
       "      <td>-1.135194</td>\n",
       "      <td>1.086963</td>\n",
       "      <td>-0.010547</td>\n",
       "      <td>0.423797</td>\n",
       "      <td>3.790880</td>\n",
       "      <td>-1.155595</td>\n",
       "      <td>...</td>\n",
       "      <td>-0.315105</td>\n",
       "      <td>0.575520</td>\n",
       "      <td>0.490842</td>\n",
       "      <td>0.756502</td>\n",
       "      <td>-0.142685</td>\n",
       "      <td>-0.602777</td>\n",
       "      <td>0.508712</td>\n",
       "      <td>-0.091646</td>\n",
       "      <td>8.555858</td>\n",
       "      <td>1</td>\n",
       "    </tr>\n",
       "    <tr>\n",
       "      <th>120862</th>\n",
       "      <td>120862</td>\n",
       "      <td>0.439760</td>\n",
       "      <td>0.531678</td>\n",
       "      <td>-1.108844</td>\n",
       "      <td>0.276972</td>\n",
       "      <td>0.386453</td>\n",
       "      <td>-1.038906</td>\n",
       "      <td>-0.810526</td>\n",
       "      <td>0.395582</td>\n",
       "      <td>-0.322635</td>\n",
       "      <td>...</td>\n",
       "      <td>0.000589</td>\n",
       "      <td>-0.824566</td>\n",
       "      <td>-0.174821</td>\n",
       "      <td>0.479535</td>\n",
       "      <td>-0.094335</td>\n",
       "      <td>0.698329</td>\n",
       "      <td>-0.130716</td>\n",
       "      <td>0.083227</td>\n",
       "      <td>5.094669</td>\n",
       "      <td>0</td>\n",
       "    </tr>\n",
       "    <tr>\n",
       "      <th>207960</th>\n",
       "      <td>207960</td>\n",
       "      <td>0.792328</td>\n",
       "      <td>1.878626</td>\n",
       "      <td>0.162765</td>\n",
       "      <td>-0.167433</td>\n",
       "      <td>3.465196</td>\n",
       "      <td>0.197332</td>\n",
       "      <td>1.157212</td>\n",
       "      <td>-0.676783</td>\n",
       "      <td>0.473890</td>\n",
       "      <td>...</td>\n",
       "      <td>-0.217428</td>\n",
       "      <td>-0.785738</td>\n",
       "      <td>0.406279</td>\n",
       "      <td>-0.056071</td>\n",
       "      <td>-0.560484</td>\n",
       "      <td>-0.388620</td>\n",
       "      <td>-0.012717</td>\n",
       "      <td>-0.038421</td>\n",
       "      <td>-0.223713</td>\n",
       "      <td>0</td>\n",
       "    </tr>\n",
       "    <tr>\n",
       "      <th>...</th>\n",
       "      <td>...</td>\n",
       "      <td>...</td>\n",
       "      <td>...</td>\n",
       "      <td>...</td>\n",
       "      <td>...</td>\n",
       "      <td>...</td>\n",
       "      <td>...</td>\n",
       "      <td>...</td>\n",
       "      <td>...</td>\n",
       "      <td>...</td>\n",
       "      <td>...</td>\n",
       "      <td>...</td>\n",
       "      <td>...</td>\n",
       "      <td>...</td>\n",
       "      <td>...</td>\n",
       "      <td>...</td>\n",
       "      <td>...</td>\n",
       "      <td>...</td>\n",
       "      <td>...</td>\n",
       "      <td>...</td>\n",
       "      <td>...</td>\n",
       "    </tr>\n",
       "    <tr>\n",
       "      <th>236229</th>\n",
       "      <td>236229</td>\n",
       "      <td>0.860700</td>\n",
       "      <td>-1.319844</td>\n",
       "      <td>0.290232</td>\n",
       "      <td>-0.223288</td>\n",
       "      <td>-0.351133</td>\n",
       "      <td>2.003048</td>\n",
       "      <td>0.004449</td>\n",
       "      <td>2.111141</td>\n",
       "      <td>-0.155835</td>\n",
       "      <td>...</td>\n",
       "      <td>0.259482</td>\n",
       "      <td>0.301030</td>\n",
       "      <td>-0.388021</td>\n",
       "      <td>-1.449786</td>\n",
       "      <td>1.720770</td>\n",
       "      <td>-0.282374</td>\n",
       "      <td>-0.106111</td>\n",
       "      <td>0.026727</td>\n",
       "      <td>2.379375</td>\n",
       "      <td>0</td>\n",
       "    </tr>\n",
       "    <tr>\n",
       "      <th>15810</th>\n",
       "      <td>15810</td>\n",
       "      <td>0.157716</td>\n",
       "      <td>-25.942434</td>\n",
       "      <td>14.601998</td>\n",
       "      <td>-27.368650</td>\n",
       "      <td>6.378395</td>\n",
       "      <td>-19.104033</td>\n",
       "      <td>-4.684806</td>\n",
       "      <td>-18.261393</td>\n",
       "      <td>17.052566</td>\n",
       "      <td>...</td>\n",
       "      <td>1.784316</td>\n",
       "      <td>-1.917759</td>\n",
       "      <td>-1.235787</td>\n",
       "      <td>0.161105</td>\n",
       "      <td>1.820378</td>\n",
       "      <td>-0.219359</td>\n",
       "      <td>1.388786</td>\n",
       "      <td>0.406810</td>\n",
       "      <td>1.089779</td>\n",
       "      <td>1</td>\n",
       "    </tr>\n",
       "    <tr>\n",
       "      <th>1569</th>\n",
       "      <td>1569</td>\n",
       "      <td>0.007107</td>\n",
       "      <td>-0.693097</td>\n",
       "      <td>0.720897</td>\n",
       "      <td>0.487926</td>\n",
       "      <td>1.545283</td>\n",
       "      <td>-0.123343</td>\n",
       "      <td>0.151906</td>\n",
       "      <td>1.821822</td>\n",
       "      <td>-0.176592</td>\n",
       "      <td>...</td>\n",
       "      <td>0.200782</td>\n",
       "      <td>0.193611</td>\n",
       "      <td>0.288196</td>\n",
       "      <td>-0.081502</td>\n",
       "      <td>0.281742</td>\n",
       "      <td>-0.136080</td>\n",
       "      <td>0.050083</td>\n",
       "      <td>0.147487</td>\n",
       "      <td>3.604136</td>\n",
       "      <td>0</td>\n",
       "    </tr>\n",
       "    <tr>\n",
       "      <th>107067</th>\n",
       "      <td>107067</td>\n",
       "      <td>0.406674</td>\n",
       "      <td>-1.512516</td>\n",
       "      <td>1.133139</td>\n",
       "      <td>-1.601052</td>\n",
       "      <td>2.813401</td>\n",
       "      <td>-2.664503</td>\n",
       "      <td>-0.310371</td>\n",
       "      <td>-1.520895</td>\n",
       "      <td>0.852996</td>\n",
       "      <td>...</td>\n",
       "      <td>0.729828</td>\n",
       "      <td>0.485286</td>\n",
       "      <td>0.567005</td>\n",
       "      <td>0.323586</td>\n",
       "      <td>0.040871</td>\n",
       "      <td>0.825814</td>\n",
       "      <td>0.414482</td>\n",
       "      <td>0.267265</td>\n",
       "      <td>4.137637</td>\n",
       "      <td>1</td>\n",
       "    </tr>\n",
       "    <tr>\n",
       "      <th>9509</th>\n",
       "      <td>9509</td>\n",
       "      <td>0.081902</td>\n",
       "      <td>-4.710529</td>\n",
       "      <td>8.636214</td>\n",
       "      <td>-15.496222</td>\n",
       "      <td>10.313349</td>\n",
       "      <td>-4.351341</td>\n",
       "      <td>-3.322689</td>\n",
       "      <td>-10.788373</td>\n",
       "      <td>5.060381</td>\n",
       "      <td>...</td>\n",
       "      <td>1.990545</td>\n",
       "      <td>0.223785</td>\n",
       "      <td>0.554408</td>\n",
       "      <td>-1.204042</td>\n",
       "      <td>-0.450685</td>\n",
       "      <td>0.641836</td>\n",
       "      <td>1.605958</td>\n",
       "      <td>0.721644</td>\n",
       "      <td>-0.293440</td>\n",
       "      <td>1</td>\n",
       "    </tr>\n",
       "  </tbody>\n",
       "</table>\n",
       "<p>984 rows × 32 columns</p>\n",
       "</div>"
      ],
      "text/plain": [
       "        Unnamed: 0      Time         V1         V2         V3         V4  \\\n",
       "189959      189959  0.744404  -0.865285  -0.979506   2.587540  -2.781144   \n",
       "107637      107637  0.408213  -2.271755  -0.457655  -2.589055   2.230778   \n",
       "275992      275992  0.965502  -2.027135  -1.131890  -1.135194   1.086963   \n",
       "120862      120862  0.439760   0.531678  -1.108844   0.276972   0.386453   \n",
       "207960      207960  0.792328   1.878626   0.162765  -0.167433   3.465196   \n",
       "...            ...       ...        ...        ...        ...        ...   \n",
       "236229      236229  0.860700  -1.319844   0.290232  -0.223288  -0.351133   \n",
       "15810        15810  0.157716 -25.942434  14.601998 -27.368650   6.378395   \n",
       "1569          1569  0.007107  -0.693097   0.720897   0.487926   1.545283   \n",
       "107067      107067  0.406674  -1.512516   1.133139  -1.601052   2.813401   \n",
       "9509          9509  0.081902  -4.710529   8.636214 -15.496222  10.313349   \n",
       "\n",
       "               V5        V6         V7         V8  ...       V21       V22  \\\n",
       "189959  -0.887336 -0.579689  -0.976755   0.132058  ... -0.106978 -0.010528   \n",
       "107637  -4.278983  0.388610   0.102485   0.813128  ...  1.096342  0.658399   \n",
       "275992  -0.010547  0.423797   3.790880  -1.155595  ... -0.315105  0.575520   \n",
       "120862  -1.038906 -0.810526   0.395582  -0.322635  ...  0.000589 -0.824566   \n",
       "207960   0.197332  1.157212  -0.676783   0.473890  ... -0.217428 -0.785738   \n",
       "...           ...       ...        ...        ...  ...       ...       ...   \n",
       "236229   2.003048  0.004449   2.111141  -0.155835  ...  0.259482  0.301030   \n",
       "15810  -19.104033 -4.684806 -18.261393  17.052566  ...  1.784316 -1.917759   \n",
       "1569    -0.123343  0.151906   1.821822  -0.176592  ...  0.200782  0.193611   \n",
       "107067  -2.664503 -0.310371  -1.520895   0.852996  ...  0.729828  0.485286   \n",
       "9509    -4.351341 -3.322689 -10.788373   5.060381  ...  1.990545  0.223785   \n",
       "\n",
       "             V23       V24       V25       V26       V27       V28     Amount  \\\n",
       "189959 -0.211955  0.021026  0.358237 -0.209483  0.062051  0.074730  -0.195626   \n",
       "107637  1.711676  0.333540  0.538591 -0.193529  0.258194  0.247269  11.218193   \n",
       "275992  0.490842  0.756502 -0.142685 -0.602777  0.508712 -0.091646   8.555858   \n",
       "120862 -0.174821  0.479535 -0.094335  0.698329 -0.130716  0.083227   5.094669   \n",
       "207960  0.406279 -0.056071 -0.560484 -0.388620 -0.012717 -0.038421  -0.223713   \n",
       "...          ...       ...       ...       ...       ...       ...        ...   \n",
       "236229 -0.388021 -1.449786  1.720770 -0.282374 -0.106111  0.026727   2.379375   \n",
       "15810  -1.235787  0.161105  1.820378 -0.219359  1.388786  0.406810   1.089779   \n",
       "1569    0.288196 -0.081502  0.281742 -0.136080  0.050083  0.147487   3.604136   \n",
       "107067  0.567005  0.323586  0.040871  0.825814  0.414482  0.267265   4.137637   \n",
       "9509    0.554408 -1.204042 -0.450685  0.641836  1.605958  0.721644  -0.293440   \n",
       "\n",
       "        Class  \n",
       "189959      0  \n",
       "107637      1  \n",
       "275992      1  \n",
       "120862      0  \n",
       "207960      0  \n",
       "...       ...  \n",
       "236229      0  \n",
       "15810       1  \n",
       "1569        0  \n",
       "107067      1  \n",
       "9509        1  \n",
       "\n",
       "[984 rows x 32 columns]"
      ]
     },
     "execution_count": 59,
     "metadata": {},
     "output_type": "execute_result"
    }
   ],
   "source": [
    "balanced_df"
   ]
  },
  {
   "cell_type": "code",
   "execution_count": 60,
   "metadata": {},
   "outputs": [],
   "source": [
    "balanced_df_np = balanced_df.to_numpy()"
   ]
  },
  {
   "cell_type": "code",
   "execution_count": 65,
   "metadata": {},
   "outputs": [
    {
     "data": {
      "text/plain": [
       "(984, 32)"
      ]
     },
     "execution_count": 65,
     "metadata": {},
     "output_type": "execute_result"
    }
   ],
   "source": [
    "balanced_df_np.shape"
   ]
  },
  {
   "cell_type": "code",
   "execution_count": 61,
   "metadata": {},
   "outputs": [],
   "source": [
    "x_train_b, y_train_b = balanced_df_np[:700, :-1], balanced_df_np[:700, -1].astype(int)\n",
    "x_test_b, y_test_b = balanced_df_np[700:842, :-1], balanced_df_np[700:842, -1].astype(int)\n",
    "x_val_b, y_val_b = balanced_df_np[842:, :-1], balanced_df_np[842:, -1].astype(int)"
   ]
  },
  {
   "cell_type": "code",
   "execution_count": 66,
   "metadata": {},
   "outputs": [
    {
     "data": {
      "text/plain": [
       "((700, 31), (142, 31), (142, 31))"
      ]
     },
     "execution_count": 66,
     "metadata": {},
     "output_type": "execute_result"
    }
   ],
   "source": [
    "x_train_b.shape, x_test_b.shape, x_val_b.shape"
   ]
  },
  {
   "cell_type": "markdown",
   "metadata": {},
   "source": [
    "## Logistic Regression"
   ]
  },
  {
   "cell_type": "code",
   "execution_count": null,
   "metadata": {},
   "outputs": [
    {
     "data": {
      "text/plain": [
       "0.95"
      ]
     },
     "execution_count": 68,
     "metadata": {},
     "output_type": "execute_result"
    }
   ],
   "source": [
    "logistic_model_b = LogisticRegression()\n",
    "logistic_model_b.fit(x_train_b, y_train_b)\n",
    "logistic_model_b.score(x_train_b, y_train_b)"
   ]
  },
  {
   "cell_type": "code",
   "execution_count": 71,
   "metadata": {},
   "outputs": [
    {
     "name": "stdout",
     "output_type": "stream",
     "text": [
      "              precision    recall  f1-score   support\n",
      "\n",
      "  Legitimate       0.93      0.97      0.95        72\n",
      "  Fraudulent       0.97      0.93      0.95        70\n",
      "\n",
      "    accuracy                           0.95       142\n",
      "   macro avg       0.95      0.95      0.95       142\n",
      "weighted avg       0.95      0.95      0.95       142\n",
      "\n"
     ]
    }
   ],
   "source": [
    "print(classification_report(y_val_b, logistic_model_b.predict(x_val_b), target_names=[\"Legitimate\",\"Fraudulent\"]))"
   ]
  },
  {
   "cell_type": "code",
   "execution_count": null,
   "metadata": {},
   "outputs": [],
   "source": []
  },
  {
   "cell_type": "markdown",
   "metadata": {},
   "source": [
    "## Shallow Nureal Network"
   ]
  },
  {
   "cell_type": "markdown",
   "metadata": {},
   "source": [
    "not sure if inputlayer should take balanced data"
   ]
  },
  {
   "cell_type": "code",
   "execution_count": 84,
   "metadata": {},
   "outputs": [],
   "source": [
    "shallow_nn_b = Sequential()\n",
    "shallow_nn_b.add(InputLayer((x_train_b.shape[1],)))\n",
    "shallow_nn_b.add(Dense(2, 'relu'))\n",
    "shallow_nn_b.add(BatchNormalization())\n",
    "shallow_nn_b.add(Dense(1, 'sigmoid'))\n",
    "\n",
    "checkpoint = ModelCheckpoint('shallow_nn_b', save_best_only=True)\n",
    "shallow_nn_b.compile(optimizer='adam', loss='binary_crossentropy', metrics='accuracy')"
   ]
  },
  {
   "cell_type": "code",
   "execution_count": 85,
   "metadata": {},
   "outputs": [
    {
     "name": "stdout",
     "output_type": "stream",
     "text": [
      "Model: \"sequential_2\"\n",
      "_________________________________________________________________\n",
      " Layer (type)                Output Shape              Param #   \n",
      "=================================================================\n",
      " dense_4 (Dense)             (None, 2)                 64        \n",
      "                                                                 \n",
      " batch_normalization_2 (Bat  (None, 2)                 8         \n",
      " chNormalization)                                                \n",
      "                                                                 \n",
      " dense_5 (Dense)             (None, 1)                 3         \n",
      "                                                                 \n",
      "=================================================================\n",
      "Total params: 75 (300.00 Byte)\n",
      "Trainable params: 71 (284.00 Byte)\n",
      "Non-trainable params: 4 (16.00 Byte)\n",
      "_________________________________________________________________\n"
     ]
    }
   ],
   "source": [
    "shallow_nn.summary()"
   ]
  },
  {
   "cell_type": "code",
   "execution_count": 86,
   "metadata": {},
   "outputs": [
    {
     "name": "stdout",
     "output_type": "stream",
     "text": [
      "Epoch 1/40\n",
      " 1/22 [>.............................] - ETA: 18s - loss: 0.7863 - accuracy: 0.3750INFO:tensorflow:Assets written to: shallow_nn_b\\assets\n"
     ]
    },
    {
     "name": "stderr",
     "output_type": "stream",
     "text": [
      "INFO:tensorflow:Assets written to: shallow_nn_b\\assets\n"
     ]
    },
    {
     "name": "stdout",
     "output_type": "stream",
     "text": [
      "22/22 [==============================] - 2s 36ms/step - loss: 0.7986 - accuracy: 0.4243 - val_loss: 1.2123 - val_accuracy: 0.4366\n",
      "Epoch 2/40\n",
      " 1/22 [>.............................] - ETA: 0s - loss: 0.7477 - accuracy: 0.4688INFO:tensorflow:Assets written to: shallow_nn_b\\assets\n"
     ]
    },
    {
     "name": "stderr",
     "output_type": "stream",
     "text": [
      "INFO:tensorflow:Assets written to: shallow_nn_b\\assets\n"
     ]
    },
    {
     "name": "stdout",
     "output_type": "stream",
     "text": [
      "22/22 [==============================] - 1s 29ms/step - loss: 0.7866 - accuracy: 0.4271 - val_loss: 0.9091 - val_accuracy: 0.4296\n",
      "Epoch 3/40\n",
      " 1/22 [>.............................] - ETA: 0s - loss: 0.8145 - accuracy: 0.3750INFO:tensorflow:Assets written to: shallow_nn_b\\assets\n"
     ]
    },
    {
     "name": "stderr",
     "output_type": "stream",
     "text": [
      "INFO:tensorflow:Assets written to: shallow_nn_b\\assets\n"
     ]
    },
    {
     "name": "stdout",
     "output_type": "stream",
     "text": [
      "22/22 [==============================] - 1s 31ms/step - loss: 0.7763 - accuracy: 0.4257 - val_loss: 0.8031 - val_accuracy: 0.4155\n",
      "Epoch 4/40\n",
      " 1/22 [>.............................] - ETA: 0s - loss: 0.7332 - accuracy: 0.4688INFO:tensorflow:Assets written to: shallow_nn_b\\assets\n"
     ]
    },
    {
     "name": "stderr",
     "output_type": "stream",
     "text": [
      "INFO:tensorflow:Assets written to: shallow_nn_b\\assets\n"
     ]
    },
    {
     "name": "stdout",
     "output_type": "stream",
     "text": [
      "22/22 [==============================] - 1s 30ms/step - loss: 0.7683 - accuracy: 0.4286 - val_loss: 0.7538 - val_accuracy: 0.4507\n",
      "Epoch 5/40\n",
      " 1/22 [>.............................] - ETA: 0s - loss: 0.8063 - accuracy: 0.3125INFO:tensorflow:Assets written to: shallow_nn_b\\assets\n"
     ]
    },
    {
     "name": "stderr",
     "output_type": "stream",
     "text": [
      "INFO:tensorflow:Assets written to: shallow_nn_b\\assets\n"
     ]
    },
    {
     "name": "stdout",
     "output_type": "stream",
     "text": [
      "22/22 [==============================] - 1s 42ms/step - loss: 0.7567 - accuracy: 0.4143 - val_loss: 0.7283 - val_accuracy: 0.4648\n",
      "Epoch 6/40\n",
      " 1/22 [>.............................] - ETA: 0s - loss: 0.7520 - accuracy: 0.3125INFO:tensorflow:Assets written to: shallow_nn_b\\assets\n"
     ]
    },
    {
     "name": "stderr",
     "output_type": "stream",
     "text": [
      "INFO:tensorflow:Assets written to: shallow_nn_b\\assets\n"
     ]
    },
    {
     "name": "stdout",
     "output_type": "stream",
     "text": [
      "22/22 [==============================] - 1s 32ms/step - loss: 0.7494 - accuracy: 0.4257 - val_loss: 0.7147 - val_accuracy: 0.4366\n",
      "Epoch 7/40\n",
      " 1/22 [>.............................] - ETA: 0s - loss: 0.7895 - accuracy: 0.3125INFO:tensorflow:Assets written to: shallow_nn_b\\assets\n"
     ]
    },
    {
     "name": "stderr",
     "output_type": "stream",
     "text": [
      "INFO:tensorflow:Assets written to: shallow_nn_b\\assets\n"
     ]
    },
    {
     "name": "stdout",
     "output_type": "stream",
     "text": [
      "22/22 [==============================] - 1s 30ms/step - loss: 0.7417 - accuracy: 0.4271 - val_loss: 0.7076 - val_accuracy: 0.5070\n",
      "Epoch 8/40\n",
      " 1/22 [>.............................] - ETA: 0s - loss: 0.7536 - accuracy: 0.3750INFO:tensorflow:Assets written to: shallow_nn_b\\assets\n"
     ]
    },
    {
     "name": "stderr",
     "output_type": "stream",
     "text": [
      "INFO:tensorflow:Assets written to: shallow_nn_b\\assets\n"
     ]
    },
    {
     "name": "stdout",
     "output_type": "stream",
     "text": [
      "22/22 [==============================] - 1s 30ms/step - loss: 0.7346 - accuracy: 0.4300 - val_loss: 0.7074 - val_accuracy: 0.5070\n",
      "Epoch 9/40\n",
      " 9/22 [===========>..................] - ETA: 0s - loss: 0.7176 - accuracy: 0.4583INFO:tensorflow:Assets written to: shallow_nn_b\\assets\n"
     ]
    },
    {
     "name": "stderr",
     "output_type": "stream",
     "text": [
      "INFO:tensorflow:Assets written to: shallow_nn_b\\assets\n"
     ]
    },
    {
     "name": "stdout",
     "output_type": "stream",
     "text": [
      "22/22 [==============================] - 1s 34ms/step - loss: 0.7051 - accuracy: 0.4900 - val_loss: 0.7026 - val_accuracy: 0.5070\n",
      "Epoch 10/40\n",
      " 1/22 [>.............................] - ETA: 0s - loss: 0.7214 - accuracy: 0.4062INFO:tensorflow:Assets written to: shallow_nn_b\\assets\n"
     ]
    },
    {
     "name": "stderr",
     "output_type": "stream",
     "text": [
      "INFO:tensorflow:Assets written to: shallow_nn_b\\assets\n"
     ]
    },
    {
     "name": "stdout",
     "output_type": "stream",
     "text": [
      "22/22 [==============================] - 1s 30ms/step - loss: 0.7249 - accuracy: 0.4357 - val_loss: 0.6964 - val_accuracy: 0.5070\n",
      "Epoch 11/40\n",
      " 1/22 [>.............................] - ETA: 0s - loss: 0.7600 - accuracy: 0.2812INFO:tensorflow:Assets written to: shallow_nn_b\\assets\n"
     ]
    },
    {
     "name": "stderr",
     "output_type": "stream",
     "text": [
      "INFO:tensorflow:Assets written to: shallow_nn_b\\assets\n"
     ]
    },
    {
     "name": "stdout",
     "output_type": "stream",
     "text": [
      "22/22 [==============================] - 1s 30ms/step - loss: 0.7175 - accuracy: 0.4143 - val_loss: 0.6940 - val_accuracy: 0.5070\n",
      "Epoch 12/40\n",
      "22/22 [==============================] - 0s 4ms/step - loss: 0.7152 - accuracy: 0.4329 - val_loss: 0.6960 - val_accuracy: 0.4718\n",
      "Epoch 13/40\n",
      "22/22 [==============================] - 0s 3ms/step - loss: 0.7312 - accuracy: 0.4200 - val_loss: 0.6963 - val_accuracy: 0.4507\n",
      "Epoch 14/40\n",
      "22/22 [==============================] - 0s 3ms/step - loss: 0.7294 - accuracy: 0.4343 - val_loss: 0.6966 - val_accuracy: 0.4225\n",
      "Epoch 15/40\n",
      "22/22 [==============================] - 0s 4ms/step - loss: 0.7274 - accuracy: 0.4271 - val_loss: 0.6968 - val_accuracy: 0.4225\n",
      "Epoch 16/40\n",
      "22/22 [==============================] - 0s 3ms/step - loss: 0.7239 - accuracy: 0.4271 - val_loss: 0.6970 - val_accuracy: 0.4155\n",
      "Epoch 17/40\n",
      "22/22 [==============================] - 0s 3ms/step - loss: 0.7217 - accuracy: 0.4186 - val_loss: 0.6973 - val_accuracy: 0.4225\n",
      "Epoch 18/40\n",
      "22/22 [==============================] - 0s 4ms/step - loss: 0.7178 - accuracy: 0.4257 - val_loss: 0.6974 - val_accuracy: 0.4225\n",
      "Epoch 19/40\n",
      "22/22 [==============================] - 0s 3ms/step - loss: 0.7178 - accuracy: 0.4271 - val_loss: 0.6976 - val_accuracy: 0.4225\n",
      "Epoch 20/40\n",
      "22/22 [==============================] - 0s 3ms/step - loss: 0.7136 - accuracy: 0.4300 - val_loss: 0.6977 - val_accuracy: 0.4225\n",
      "Epoch 21/40\n",
      "22/22 [==============================] - 0s 3ms/step - loss: 0.7132 - accuracy: 0.4314 - val_loss: 0.6978 - val_accuracy: 0.4155\n",
      "Epoch 22/40\n",
      "22/22 [==============================] - 0s 3ms/step - loss: 0.7118 - accuracy: 0.4257 - val_loss: 0.6979 - val_accuracy: 0.4155\n",
      "Epoch 23/40\n",
      "22/22 [==============================] - 0s 3ms/step - loss: 0.7115 - accuracy: 0.4129 - val_loss: 0.6979 - val_accuracy: 0.4155\n",
      "Epoch 24/40\n",
      "22/22 [==============================] - 0s 3ms/step - loss: 0.7090 - accuracy: 0.4229 - val_loss: 0.6980 - val_accuracy: 0.4155\n",
      "Epoch 25/40\n",
      "22/22 [==============================] - 0s 3ms/step - loss: 0.7073 - accuracy: 0.4229 - val_loss: 0.6979 - val_accuracy: 0.4296\n",
      "Epoch 26/40\n",
      "22/22 [==============================] - 0s 4ms/step - loss: 0.7062 - accuracy: 0.4186 - val_loss: 0.6979 - val_accuracy: 0.4225\n",
      "Epoch 27/40\n",
      "22/22 [==============================] - 0s 5ms/step - loss: 0.7054 - accuracy: 0.4243 - val_loss: 0.6978 - val_accuracy: 0.4155\n",
      "Epoch 28/40\n",
      "22/22 [==============================] - 0s 3ms/step - loss: 0.7043 - accuracy: 0.4186 - val_loss: 0.6977 - val_accuracy: 0.4225\n",
      "Epoch 29/40\n",
      "22/22 [==============================] - 0s 3ms/step - loss: 0.7037 - accuracy: 0.4157 - val_loss: 0.6975 - val_accuracy: 0.4225\n",
      "Epoch 30/40\n",
      "22/22 [==============================] - 0s 3ms/step - loss: 0.7023 - accuracy: 0.4200 - val_loss: 0.6972 - val_accuracy: 0.4155\n",
      "Epoch 31/40\n",
      "22/22 [==============================] - 0s 3ms/step - loss: 0.7011 - accuracy: 0.4200 - val_loss: 0.6970 - val_accuracy: 0.4225\n",
      "Epoch 32/40\n",
      "22/22 [==============================] - 0s 3ms/step - loss: 0.7001 - accuracy: 0.4229 - val_loss: 0.6967 - val_accuracy: 0.4225\n",
      "Epoch 33/40\n",
      "22/22 [==============================] - 0s 3ms/step - loss: 0.6996 - accuracy: 0.4157 - val_loss: 0.6964 - val_accuracy: 0.4225\n",
      "Epoch 34/40\n",
      "22/22 [==============================] - 0s 5ms/step - loss: 0.6986 - accuracy: 0.4286 - val_loss: 0.6961 - val_accuracy: 0.4155\n",
      "Epoch 35/40\n",
      "22/22 [==============================] - 0s 4ms/step - loss: 0.6978 - accuracy: 0.4243 - val_loss: 0.6957 - val_accuracy: 0.4155\n",
      "Epoch 36/40\n",
      "22/22 [==============================] - 0s 3ms/step - loss: 0.6968 - accuracy: 0.4214 - val_loss: 0.6954 - val_accuracy: 0.4225\n",
      "Epoch 37/40\n",
      "22/22 [==============================] - 0s 3ms/step - loss: 0.6964 - accuracy: 0.4214 - val_loss: 0.6950 - val_accuracy: 0.4437\n",
      "Epoch 38/40\n",
      "22/22 [==============================] - 0s 3ms/step - loss: 0.6956 - accuracy: 0.4300 - val_loss: 0.6947 - val_accuracy: 0.4718\n",
      "Epoch 39/40\n",
      "22/22 [==============================] - 0s 4ms/step - loss: 0.6950 - accuracy: 0.4371 - val_loss: 0.6942 - val_accuracy: 0.4930\n",
      "Epoch 40/40\n",
      " 1/22 [>.............................] - ETA: 0s - loss: 0.6938 - accuracy: 0.4062INFO:tensorflow:Assets written to: shallow_nn_b\\assets\n"
     ]
    },
    {
     "name": "stderr",
     "output_type": "stream",
     "text": [
      "INFO:tensorflow:Assets written to: shallow_nn_b\\assets\n"
     ]
    },
    {
     "name": "stdout",
     "output_type": "stream",
     "text": [
      "22/22 [==============================] - 1s 30ms/step - loss: 0.6943 - accuracy: 0.4643 - val_loss: 0.6938 - val_accuracy: 0.4930\n"
     ]
    },
    {
     "data": {
      "text/plain": [
       "<keras.src.callbacks.History at 0x28d2b5826d0>"
      ]
     },
     "execution_count": 86,
     "metadata": {},
     "output_type": "execute_result"
    }
   ],
   "source": [
    "shallow_nn_b.fit(x_train_b, y_train_b, validation_data=(x_val_b, y_val_b), epochs=40, callbacks=checkpoint)"
   ]
  },
  {
   "cell_type": "code",
   "execution_count": 87,
   "metadata": {},
   "outputs": [
    {
     "name": "stdout",
     "output_type": "stream",
     "text": [
      "5/5 [==============================] - 0s 3ms/step\n",
      "              precision    recall  f1-score   support\n",
      "\n",
      "  Legitimate       0.00      0.00      0.00        72\n",
      "  Fraudulent       0.49      1.00      0.66        70\n",
      "\n",
      "    accuracy                           0.49       142\n",
      "   macro avg       0.25      0.50      0.33       142\n",
      "weighted avg       0.24      0.49      0.33       142\n",
      "\n"
     ]
    },
    {
     "name": "stderr",
     "output_type": "stream",
     "text": [
      "C:\\Users\\Kamuzinzi N. Egide\\AppData\\Local\\Packages\\PythonSoftwareFoundation.Python.3.8_qbz5n2kfra8p0\\LocalCache\\local-packages\\Python38\\site-packages\\sklearn\\metrics\\_classification.py:1471: UndefinedMetricWarning: Precision and F-score are ill-defined and being set to 0.0 in labels with no predicted samples. Use `zero_division` parameter to control this behavior.\n",
      "  _warn_prf(average, modifier, msg_start, len(result))\n",
      "C:\\Users\\Kamuzinzi N. Egide\\AppData\\Local\\Packages\\PythonSoftwareFoundation.Python.3.8_qbz5n2kfra8p0\\LocalCache\\local-packages\\Python38\\site-packages\\sklearn\\metrics\\_classification.py:1471: UndefinedMetricWarning: Precision and F-score are ill-defined and being set to 0.0 in labels with no predicted samples. Use `zero_division` parameter to control this behavior.\n",
      "  _warn_prf(average, modifier, msg_start, len(result))\n",
      "C:\\Users\\Kamuzinzi N. Egide\\AppData\\Local\\Packages\\PythonSoftwareFoundation.Python.3.8_qbz5n2kfra8p0\\LocalCache\\local-packages\\Python38\\site-packages\\sklearn\\metrics\\_classification.py:1471: UndefinedMetricWarning: Precision and F-score are ill-defined and being set to 0.0 in labels with no predicted samples. Use `zero_division` parameter to control this behavior.\n",
      "  _warn_prf(average, modifier, msg_start, len(result))\n"
     ]
    }
   ],
   "source": [
    "print(classification_report(y_val_b, neural_net_predictions(shallow_nn_b, x_val_b), target_names=[\"Legitimate\",\"Fraudulent\"]))"
   ]
  },
  {
   "cell_type": "markdown",
   "metadata": {},
   "source": [
    "## Random Forest Classifier"
   ]
  },
  {
   "cell_type": "code",
   "execution_count": 88,
   "metadata": {},
   "outputs": [
    {
     "data": {
      "text/html": [
       "<style>#sk-container-id-2 {color: black;}#sk-container-id-2 pre{padding: 0;}#sk-container-id-2 div.sk-toggleable {background-color: white;}#sk-container-id-2 label.sk-toggleable__label {cursor: pointer;display: block;width: 100%;margin-bottom: 0;padding: 0.3em;box-sizing: border-box;text-align: center;}#sk-container-id-2 label.sk-toggleable__label-arrow:before {content: \"▸\";float: left;margin-right: 0.25em;color: #696969;}#sk-container-id-2 label.sk-toggleable__label-arrow:hover:before {color: black;}#sk-container-id-2 div.sk-estimator:hover label.sk-toggleable__label-arrow:before {color: black;}#sk-container-id-2 div.sk-toggleable__content {max-height: 0;max-width: 0;overflow: hidden;text-align: left;background-color: #f0f8ff;}#sk-container-id-2 div.sk-toggleable__content pre {margin: 0.2em;color: black;border-radius: 0.25em;background-color: #f0f8ff;}#sk-container-id-2 input.sk-toggleable__control:checked~div.sk-toggleable__content {max-height: 200px;max-width: 100%;overflow: auto;}#sk-container-id-2 input.sk-toggleable__control:checked~label.sk-toggleable__label-arrow:before {content: \"▾\";}#sk-container-id-2 div.sk-estimator input.sk-toggleable__control:checked~label.sk-toggleable__label {background-color: #d4ebff;}#sk-container-id-2 div.sk-label input.sk-toggleable__control:checked~label.sk-toggleable__label {background-color: #d4ebff;}#sk-container-id-2 input.sk-hidden--visually {border: 0;clip: rect(1px 1px 1px 1px);clip: rect(1px, 1px, 1px, 1px);height: 1px;margin: -1px;overflow: hidden;padding: 0;position: absolute;width: 1px;}#sk-container-id-2 div.sk-estimator {font-family: monospace;background-color: #f0f8ff;border: 1px dotted black;border-radius: 0.25em;box-sizing: border-box;margin-bottom: 0.5em;}#sk-container-id-2 div.sk-estimator:hover {background-color: #d4ebff;}#sk-container-id-2 div.sk-parallel-item::after {content: \"\";width: 100%;border-bottom: 1px solid gray;flex-grow: 1;}#sk-container-id-2 div.sk-label:hover label.sk-toggleable__label {background-color: #d4ebff;}#sk-container-id-2 div.sk-serial::before {content: \"\";position: absolute;border-left: 1px solid gray;box-sizing: border-box;top: 0;bottom: 0;left: 50%;z-index: 0;}#sk-container-id-2 div.sk-serial {display: flex;flex-direction: column;align-items: center;background-color: white;padding-right: 0.2em;padding-left: 0.2em;position: relative;}#sk-container-id-2 div.sk-item {position: relative;z-index: 1;}#sk-container-id-2 div.sk-parallel {display: flex;align-items: stretch;justify-content: center;background-color: white;position: relative;}#sk-container-id-2 div.sk-item::before, #sk-container-id-2 div.sk-parallel-item::before {content: \"\";position: absolute;border-left: 1px solid gray;box-sizing: border-box;top: 0;bottom: 0;left: 50%;z-index: -1;}#sk-container-id-2 div.sk-parallel-item {display: flex;flex-direction: column;z-index: 1;position: relative;background-color: white;}#sk-container-id-2 div.sk-parallel-item:first-child::after {align-self: flex-end;width: 50%;}#sk-container-id-2 div.sk-parallel-item:last-child::after {align-self: flex-start;width: 50%;}#sk-container-id-2 div.sk-parallel-item:only-child::after {width: 0;}#sk-container-id-2 div.sk-dashed-wrapped {border: 1px dashed gray;margin: 0 0.4em 0.5em 0.4em;box-sizing: border-box;padding-bottom: 0.4em;background-color: white;}#sk-container-id-2 div.sk-label label {font-family: monospace;font-weight: bold;display: inline-block;line-height: 1.2em;}#sk-container-id-2 div.sk-label-container {text-align: center;}#sk-container-id-2 div.sk-container {/* jupyter's `normalize.less` sets `[hidden] { display: none; }` but bootstrap.min.css set `[hidden] { display: none !important; }` so we also need the `!important` here to be able to override the default hidden behavior on the sphinx rendered scikit-learn.org. See: https://github.com/scikit-learn/scikit-learn/issues/21755 */display: inline-block !important;position: relative;}#sk-container-id-2 div.sk-text-repr-fallback {display: none;}</style><div id=\"sk-container-id-2\" class=\"sk-top-container\"><div class=\"sk-text-repr-fallback\"><pre>RandomForestClassifier(max_depth=2, n_jobs=-1)</pre><b>In a Jupyter environment, please rerun this cell to show the HTML representation or trust the notebook. <br />On GitHub, the HTML representation is unable to render, please try loading this page with nbviewer.org.</b></div><div class=\"sk-container\" hidden><div class=\"sk-item\"><div class=\"sk-estimator sk-toggleable\"><input class=\"sk-toggleable__control sk-hidden--visually\" id=\"sk-estimator-id-2\" type=\"checkbox\" checked><label for=\"sk-estimator-id-2\" class=\"sk-toggleable__label sk-toggleable__label-arrow\">RandomForestClassifier</label><div class=\"sk-toggleable__content\"><pre>RandomForestClassifier(max_depth=2, n_jobs=-1)</pre></div></div></div></div></div>"
      ],
      "text/plain": [
       "RandomForestClassifier(max_depth=2, n_jobs=-1)"
      ]
     },
     "execution_count": 88,
     "metadata": {},
     "output_type": "execute_result"
    }
   ],
   "source": [
    "rf_b = RandomForestClassifier(max_depth=2, n_jobs=-1)\n",
    "rf_b.fit(x_train_b, y_train_b)"
   ]
  },
  {
   "cell_type": "code",
   "execution_count": 89,
   "metadata": {},
   "outputs": [
    {
     "name": "stdout",
     "output_type": "stream",
     "text": [
      "              precision    recall  f1-score   support\n",
      "\n",
      "  Legitimate       0.87      1.00      0.93        72\n",
      "  Fraudulent       1.00      0.84      0.91        70\n",
      "\n",
      "    accuracy                           0.92       142\n",
      "   macro avg       0.93      0.92      0.92       142\n",
      "weighted avg       0.93      0.92      0.92       142\n",
      "\n"
     ]
    }
   ],
   "source": [
    "\n",
    "print(classification_report(y_val_b, rf_b.predict(x_val_b), target_names=[\"Legitimate\",\"Fraudulent\"]))"
   ]
  },
  {
   "cell_type": "markdown",
   "metadata": {},
   "source": [
    "## Gradient Boosting Classifier"
   ]
  },
  {
   "cell_type": "code",
   "execution_count": 95,
   "metadata": {},
   "outputs": [
    {
     "name": "stdout",
     "output_type": "stream",
     "text": [
      "              precision    recall  f1-score   support\n",
      "\n",
      "  Legitimate       0.00      0.00      0.00        72\n",
      "  Fraudulent       0.49      1.00      0.66        70\n",
      "\n",
      "    accuracy                           0.49       142\n",
      "   macro avg       0.25      0.50      0.33       142\n",
      "weighted avg       0.24      0.49      0.33       142\n",
      "\n"
     ]
    },
    {
     "name": "stderr",
     "output_type": "stream",
     "text": [
      "C:\\Users\\Kamuzinzi N. Egide\\AppData\\Local\\Packages\\PythonSoftwareFoundation.Python.3.8_qbz5n2kfra8p0\\LocalCache\\local-packages\\Python38\\site-packages\\sklearn\\metrics\\_classification.py:1471: UndefinedMetricWarning: Precision and F-score are ill-defined and being set to 0.0 in labels with no predicted samples. Use `zero_division` parameter to control this behavior.\n",
      "  _warn_prf(average, modifier, msg_start, len(result))\n",
      "C:\\Users\\Kamuzinzi N. Egide\\AppData\\Local\\Packages\\PythonSoftwareFoundation.Python.3.8_qbz5n2kfra8p0\\LocalCache\\local-packages\\Python38\\site-packages\\sklearn\\metrics\\_classification.py:1471: UndefinedMetricWarning: Precision and F-score are ill-defined and being set to 0.0 in labels with no predicted samples. Use `zero_division` parameter to control this behavior.\n",
      "  _warn_prf(average, modifier, msg_start, len(result))\n",
      "C:\\Users\\Kamuzinzi N. Egide\\AppData\\Local\\Packages\\PythonSoftwareFoundation.Python.3.8_qbz5n2kfra8p0\\LocalCache\\local-packages\\Python38\\site-packages\\sklearn\\metrics\\_classification.py:1471: UndefinedMetricWarning: Precision and F-score are ill-defined and being set to 0.0 in labels with no predicted samples. Use `zero_division` parameter to control this behavior.\n",
      "  _warn_prf(average, modifier, msg_start, len(result))\n"
     ]
    }
   ],
   "source": [
    "gbc_b = GradientBoostingClassifier(n_estimators=100, learning_rate=1.0, max_depth=2, random_state=0)\n",
    "gbc_b.fit(x_train_b, y_train_b)\n",
    "print(classification_report(y_val_b, gbc.predict(x_val_b), target_names=[\"Legitimate\",\"Fraudulent\"]))"
   ]
  },
  {
   "cell_type": "markdown",
   "metadata": {},
   "source": [
    "## Linear Support Vector Machin (SVC)"
   ]
  },
  {
   "cell_type": "code",
   "execution_count": 96,
   "metadata": {},
   "outputs": [
    {
     "name": "stdout",
     "output_type": "stream",
     "text": [
      "              precision    recall  f1-score   support\n",
      "\n",
      "  Legitimate       1.00      0.06      0.11        72\n",
      "  Fraudulent       0.51      1.00      0.67        70\n",
      "\n",
      "    accuracy                           0.52       142\n",
      "   macro avg       0.75      0.53      0.39       142\n",
      "weighted avg       0.76      0.52      0.39       142\n",
      "\n"
     ]
    },
    {
     "name": "stderr",
     "output_type": "stream",
     "text": [
      "C:\\Users\\Kamuzinzi N. Egide\\AppData\\Local\\Packages\\PythonSoftwareFoundation.Python.3.8_qbz5n2kfra8p0\\LocalCache\\local-packages\\Python38\\site-packages\\sklearn\\svm\\_classes.py:32: FutureWarning: The default value of `dual` will change from `True` to `'auto'` in 1.5. Set the value of `dual` explicitly to suppress the warning.\n",
      "  warnings.warn(\n",
      "C:\\Users\\Kamuzinzi N. Egide\\AppData\\Local\\Packages\\PythonSoftwareFoundation.Python.3.8_qbz5n2kfra8p0\\LocalCache\\local-packages\\Python38\\site-packages\\sklearn\\svm\\_base.py:1250: ConvergenceWarning: Liblinear failed to converge, increase the number of iterations.\n",
      "  warnings.warn(\n"
     ]
    }
   ],
   "source": [
    "svc_b = LinearSVC(class_weight='balanced')\n",
    "svc_b.fit(x_train_b, y_train_b)\n",
    "\n",
    "print(classification_report(y_val_b, svc_b.predict(x_val_b), target_names=[\"Legitimate\",\"Fraudulent\"]))"
   ]
  },
  {
   "cell_type": "code",
   "execution_count": null,
   "metadata": {},
   "outputs": [],
   "source": []
  }
 ],
 "metadata": {
  "kernelspec": {
   "display_name": "Python 3",
   "language": "python",
   "name": "python3"
  },
  "language_info": {
   "codemirror_mode": {
    "name": "ipython",
    "version": 3
   },
   "file_extension": ".py",
   "mimetype": "text/x-python",
   "name": "python",
   "nbconvert_exporter": "python",
   "pygments_lexer": "ipython3",
   "version": "3.8.10"
  }
 },
 "nbformat": 4,
 "nbformat_minor": 2
}
